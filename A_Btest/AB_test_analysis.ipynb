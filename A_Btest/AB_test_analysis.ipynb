{
 "cells": [
  {
   "cell_type": "markdown",
   "id": "f23f6747-d8d7-4964-a5e3-432a05369bb3",
   "metadata": {},
   "source": [
    "# A/B test analysis"
   ]
  },
  {
   "cell_type": "markdown",
   "id": "verbal-wrestling",
   "metadata": {},
   "source": [
    "### Project background\n",
    "An app, **KITTENGRAM** allows users to post pictures of their cats and the other users can like or comments the pictures. Only cats are allowed in the app.\n",
    "\n",
    "We decide to use 2 KPIs to study if the new Ads structure does give an improvment in revenue:\n",
    "- **Daily active users** (DAU): to make sure the users come back\n",
    "- **Clight-through rate** (CTR): New type of sponsored posts vs. old type of sponsorded posts.\n",
    "\n",
    "#### Define the Hypothesis\n",
    "* **H0**: tailered ads have no effect on the user engagement - will not affect selected KPIs\n",
    "* **H1**: tailered ads increase selected KPIs\n"
   ]
  },
  {
   "cell_type": "markdown",
   "id": "governmental-grocery",
   "metadata": {},
   "source": [
    "#### Import required libraries"
   ]
  },
  {
   "cell_type": "code",
   "execution_count": 107,
   "id": "4f97cf8d-11d6-41a2-a8af-c539517686c3",
   "metadata": {},
   "outputs": [],
   "source": [
    "import pandas as pd\n",
    "import numpy as np\n",
    "import altair as alt\n",
    "from datetime import datetime\n",
    "from scipy.stats import ttest_ind"
   ]
  },
  {
   "cell_type": "markdown",
   "id": "0e346d33-6399-486d-b7da-7d5cf4fdec31",
   "metadata": {
    "heading_collapsed": true
   },
   "source": [
    "## 1. Assignments"
   ]
  },
  {
   "cell_type": "markdown",
   "id": "graduate-northern",
   "metadata": {
    "heading_collapsed": true,
    "hidden": true
   },
   "source": [
    "#### (1) Load the data "
   ]
  },
  {
   "cell_type": "code",
   "execution_count": 6,
   "id": "d1fe91d9-852d-4153-9c84-367f7168c3d6",
   "metadata": {
    "hidden": true
   },
   "outputs": [],
   "source": [
    "data = pd.read_csv(\"assignments.csv\")"
   ]
  },
  {
   "cell_type": "code",
   "execution_count": 7,
   "id": "e244d0b0-3be5-4df9-9da0-82e41636c07d",
   "metadata": {
    "hidden": true
   },
   "outputs": [
    {
     "data": {
      "text/html": [
       "<div>\n",
       "<style scoped>\n",
       "    .dataframe tbody tr th:only-of-type {\n",
       "        vertical-align: middle;\n",
       "    }\n",
       "\n",
       "    .dataframe tbody tr th {\n",
       "        vertical-align: top;\n",
       "    }\n",
       "\n",
       "    .dataframe thead th {\n",
       "        text-align: right;\n",
       "    }\n",
       "</style>\n",
       "<table border=\"1\" class=\"dataframe\">\n",
       "  <thead>\n",
       "    <tr style=\"text-align: right;\">\n",
       "      <th></th>\n",
       "      <th>userid</th>\n",
       "      <th>ts</th>\n",
       "      <th>groupid</th>\n",
       "    </tr>\n",
       "  </thead>\n",
       "  <tbody>\n",
       "    <tr>\n",
       "      <th>0</th>\n",
       "      <td>c5d77c89-33a3-4fe3-9e31-179dec09d49c</td>\n",
       "      <td>2021-11-02T07:31:42Z</td>\n",
       "      <td>0</td>\n",
       "    </tr>\n",
       "    <tr>\n",
       "      <th>1</th>\n",
       "      <td>9061d751-7a94-44d3-8792-5ca5ec59aa89</td>\n",
       "      <td>2021-11-13T07:43:51Z</td>\n",
       "      <td>0</td>\n",
       "    </tr>\n",
       "    <tr>\n",
       "      <th>2</th>\n",
       "      <td>a5b70ae7-f07c-4773-9df4-ce112bc9dc48</td>\n",
       "      <td>2021-11-20T19:26:07Z</td>\n",
       "      <td>0</td>\n",
       "    </tr>\n",
       "    <tr>\n",
       "      <th>3</th>\n",
       "      <td>d2646662-269f-49de-aab1-8776afced9a3</td>\n",
       "      <td>2021-11-20T11:09:02Z</td>\n",
       "      <td>0</td>\n",
       "    </tr>\n",
       "    <tr>\n",
       "      <th>4</th>\n",
       "      <td>2d9b23b7-4e5e-4162-9f0f-49e593fdd2b5</td>\n",
       "      <td>2021-11-04T07:42:07Z</td>\n",
       "      <td>0</td>\n",
       "    </tr>\n",
       "  </tbody>\n",
       "</table>\n",
       "</div>"
      ],
      "text/plain": [
       "                                 userid                    ts  groupid\n",
       "0  c5d77c89-33a3-4fe3-9e31-179dec09d49c  2021-11-02T07:31:42Z        0\n",
       "1  9061d751-7a94-44d3-8792-5ca5ec59aa89  2021-11-13T07:43:51Z        0\n",
       "2  a5b70ae7-f07c-4773-9df4-ce112bc9dc48  2021-11-20T19:26:07Z        0\n",
       "3  d2646662-269f-49de-aab1-8776afced9a3  2021-11-20T11:09:02Z        0\n",
       "4  2d9b23b7-4e5e-4162-9f0f-49e593fdd2b5  2021-11-04T07:42:07Z        0"
      ]
     },
     "execution_count": 7,
     "metadata": {},
     "output_type": "execute_result"
    }
   ],
   "source": [
    "data.head()"
   ]
  },
  {
   "cell_type": "markdown",
   "id": "functional-acrylic",
   "metadata": {
    "heading_collapsed": true,
    "hidden": true
   },
   "source": [
    "#### (2) Convert timestamp to a date"
   ]
  },
  {
   "cell_type": "code",
   "execution_count": 8,
   "id": "linear-equity",
   "metadata": {
    "hidden": true
   },
   "outputs": [
    {
     "data": {
      "text/plain": [
       "'2021-11-02T07:31:42Z'"
      ]
     },
     "execution_count": 8,
     "metadata": {},
     "output_type": "execute_result"
    }
   ],
   "source": [
    "data.head(1)['ts'][0]"
   ]
  },
  {
   "cell_type": "code",
   "execution_count": 9,
   "id": "644a07ad-76df-43e3-9972-db25b92cafad",
   "metadata": {
    "hidden": true
   },
   "outputs": [
    {
     "name": "stdout",
     "output_type": "stream",
     "text": [
      "2021-11-02\n"
     ]
    }
   ],
   "source": [
    "print(datetime.strptime(data.head(1)['ts'][0], '%Y-%m-%dT%H:%M:%SZ').strftime(\"%Y-%m-%d\"))"
   ]
  },
  {
   "cell_type": "code",
   "execution_count": 5,
   "id": "85f871a3-460b-4506-ab93-28a2334d9f4f",
   "metadata": {
    "hidden": true
   },
   "outputs": [],
   "source": [
    "data['dt'] = data['ts'].map(lambda x: datetime.strptime(x, '%Y-%m-%dT%H:%M:%SZ').strftime(\"%Y-%m-%d\"))"
   ]
  },
  {
   "cell_type": "code",
   "execution_count": 14,
   "id": "84a76d24-a8d5-4243-898b-aeea9359f64c",
   "metadata": {
    "hidden": true
   },
   "outputs": [
    {
     "data": {
      "text/html": [
       "<div>\n",
       "<style scoped>\n",
       "    .dataframe tbody tr th:only-of-type {\n",
       "        vertical-align: middle;\n",
       "    }\n",
       "\n",
       "    .dataframe tbody tr th {\n",
       "        vertical-align: top;\n",
       "    }\n",
       "\n",
       "    .dataframe thead th {\n",
       "        text-align: right;\n",
       "    }\n",
       "</style>\n",
       "<table border=\"1\" class=\"dataframe\">\n",
       "  <thead>\n",
       "    <tr style=\"text-align: right;\">\n",
       "      <th></th>\n",
       "      <th>userid</th>\n",
       "      <th>ts</th>\n",
       "      <th>groupid</th>\n",
       "      <th>dt</th>\n",
       "    </tr>\n",
       "  </thead>\n",
       "  <tbody>\n",
       "    <tr>\n",
       "      <th>0</th>\n",
       "      <td>c5d77c89-33a3-4fe3-9e31-179dec09d49c</td>\n",
       "      <td>2021-11-02T07:31:42Z</td>\n",
       "      <td>0</td>\n",
       "      <td>2021-11-02</td>\n",
       "    </tr>\n",
       "    <tr>\n",
       "      <th>1</th>\n",
       "      <td>9061d751-7a94-44d3-8792-5ca5ec59aa89</td>\n",
       "      <td>2021-11-13T07:43:51Z</td>\n",
       "      <td>0</td>\n",
       "      <td>2021-11-13</td>\n",
       "    </tr>\n",
       "    <tr>\n",
       "      <th>2</th>\n",
       "      <td>a5b70ae7-f07c-4773-9df4-ce112bc9dc48</td>\n",
       "      <td>2021-11-20T19:26:07Z</td>\n",
       "      <td>0</td>\n",
       "      <td>2021-11-20</td>\n",
       "    </tr>\n",
       "    <tr>\n",
       "      <th>3</th>\n",
       "      <td>d2646662-269f-49de-aab1-8776afced9a3</td>\n",
       "      <td>2021-11-20T11:09:02Z</td>\n",
       "      <td>0</td>\n",
       "      <td>2021-11-20</td>\n",
       "    </tr>\n",
       "    <tr>\n",
       "      <th>4</th>\n",
       "      <td>2d9b23b7-4e5e-4162-9f0f-49e593fdd2b5</td>\n",
       "      <td>2021-11-04T07:42:07Z</td>\n",
       "      <td>0</td>\n",
       "      <td>2021-11-04</td>\n",
       "    </tr>\n",
       "  </tbody>\n",
       "</table>\n",
       "</div>"
      ],
      "text/plain": [
       "                                 userid                    ts  groupid  \\\n",
       "0  c5d77c89-33a3-4fe3-9e31-179dec09d49c  2021-11-02T07:31:42Z        0   \n",
       "1  9061d751-7a94-44d3-8792-5ca5ec59aa89  2021-11-13T07:43:51Z        0   \n",
       "2  a5b70ae7-f07c-4773-9df4-ce112bc9dc48  2021-11-20T19:26:07Z        0   \n",
       "3  d2646662-269f-49de-aab1-8776afced9a3  2021-11-20T11:09:02Z        0   \n",
       "4  2d9b23b7-4e5e-4162-9f0f-49e593fdd2b5  2021-11-04T07:42:07Z        0   \n",
       "\n",
       "           dt  \n",
       "0  2021-11-02  \n",
       "1  2021-11-13  \n",
       "2  2021-11-20  \n",
       "3  2021-11-20  \n",
       "4  2021-11-04  "
      ]
     },
     "execution_count": 14,
     "metadata": {},
     "output_type": "execute_result"
    }
   ],
   "source": [
    "data.head()"
   ]
  },
  {
   "cell_type": "markdown",
   "id": "fatty-magnet",
   "metadata": {
    "hidden": true
   },
   "source": [
    "#### (3) Describe assignment data\n",
    "\n",
    "We first look at **active users** and plot user activities over time"
   ]
  },
  {
   "cell_type": "code",
   "execution_count": 15,
   "id": "f88851f9-8752-49c7-88c7-88a8c416cf87",
   "metadata": {
    "hidden": true
   },
   "outputs": [
    {
     "data": {
      "text/html": [
       "<div>\n",
       "<style scoped>\n",
       "    .dataframe tbody tr th:only-of-type {\n",
       "        vertical-align: middle;\n",
       "    }\n",
       "\n",
       "    .dataframe tbody tr th {\n",
       "        vertical-align: top;\n",
       "    }\n",
       "\n",
       "    .dataframe thead th {\n",
       "        text-align: right;\n",
       "    }\n",
       "</style>\n",
       "<table border=\"1\" class=\"dataframe\">\n",
       "  <thead>\n",
       "    <tr style=\"text-align: right;\">\n",
       "      <th></th>\n",
       "      <th>groupid</th>\n",
       "    </tr>\n",
       "  </thead>\n",
       "  <tbody>\n",
       "    <tr>\n",
       "      <th>count</th>\n",
       "      <td>60000.000000</td>\n",
       "    </tr>\n",
       "    <tr>\n",
       "      <th>mean</th>\n",
       "      <td>0.500817</td>\n",
       "    </tr>\n",
       "    <tr>\n",
       "      <th>std</th>\n",
       "      <td>0.500003</td>\n",
       "    </tr>\n",
       "    <tr>\n",
       "      <th>min</th>\n",
       "      <td>0.000000</td>\n",
       "    </tr>\n",
       "    <tr>\n",
       "      <th>25%</th>\n",
       "      <td>0.000000</td>\n",
       "    </tr>\n",
       "    <tr>\n",
       "      <th>50%</th>\n",
       "      <td>1.000000</td>\n",
       "    </tr>\n",
       "    <tr>\n",
       "      <th>75%</th>\n",
       "      <td>1.000000</td>\n",
       "    </tr>\n",
       "    <tr>\n",
       "      <th>max</th>\n",
       "      <td>1.000000</td>\n",
       "    </tr>\n",
       "  </tbody>\n",
       "</table>\n",
       "</div>"
      ],
      "text/plain": [
       "            groupid\n",
       "count  60000.000000\n",
       "mean       0.500817\n",
       "std        0.500003\n",
       "min        0.000000\n",
       "25%        0.000000\n",
       "50%        1.000000\n",
       "75%        1.000000\n",
       "max        1.000000"
      ]
     },
     "execution_count": 15,
     "metadata": {},
     "output_type": "execute_result"
    }
   ],
   "source": [
    "data.describe()"
   ]
  },
  {
   "cell_type": "code",
   "execution_count": 16,
   "id": "11133ce5-448c-4d4d-b717-dc98011652bf",
   "metadata": {
    "hidden": true
   },
   "outputs": [
    {
     "data": {
      "text/html": [
       "<div>\n",
       "<style scoped>\n",
       "    .dataframe tbody tr th:only-of-type {\n",
       "        vertical-align: middle;\n",
       "    }\n",
       "\n",
       "    .dataframe tbody tr th {\n",
       "        vertical-align: top;\n",
       "    }\n",
       "\n",
       "    .dataframe thead th {\n",
       "        text-align: right;\n",
       "    }\n",
       "</style>\n",
       "<table border=\"1\" class=\"dataframe\">\n",
       "  <thead>\n",
       "    <tr style=\"text-align: right;\">\n",
       "      <th></th>\n",
       "      <th>userid</th>\n",
       "    </tr>\n",
       "    <tr>\n",
       "      <th>groupid</th>\n",
       "      <th></th>\n",
       "    </tr>\n",
       "  </thead>\n",
       "  <tbody>\n",
       "    <tr>\n",
       "      <th>0</th>\n",
       "      <td>29951</td>\n",
       "    </tr>\n",
       "    <tr>\n",
       "      <th>1</th>\n",
       "      <td>30049</td>\n",
       "    </tr>\n",
       "  </tbody>\n",
       "</table>\n",
       "</div>"
      ],
      "text/plain": [
       "         userid\n",
       "groupid        \n",
       "0         29951\n",
       "1         30049"
      ]
     },
     "execution_count": 16,
     "metadata": {},
     "output_type": "execute_result"
    }
   ],
   "source": [
    "data.groupby(['groupid']).count().drop(['ts','dt'],axis = 1)"
   ]
  },
  {
   "cell_type": "markdown",
   "id": "apparent-fault",
   "metadata": {
    "heading_collapsed": true,
    "hidden": true
   },
   "source": [
    "#### (4) Daily active user\n",
    "On each day we have approximately the same number of users assigned to test (1) or control (0) group"
   ]
  },
  {
   "cell_type": "code",
   "execution_count": 19,
   "id": "a2a663f0-a170-46bd-9395-fd074cad537b",
   "metadata": {
    "hidden": true
   },
   "outputs": [],
   "source": [
    "data_count = data.groupby(['groupid','dt']).count().reset_index()"
   ]
  },
  {
   "cell_type": "code",
   "execution_count": 20,
   "id": "90a4e9be-8ec9-4d67-8d48-02861038b5eb",
   "metadata": {
    "hidden": true
   },
   "outputs": [
    {
     "data": {
      "text/html": [
       "<div>\n",
       "<style scoped>\n",
       "    .dataframe tbody tr th:only-of-type {\n",
       "        vertical-align: middle;\n",
       "    }\n",
       "\n",
       "    .dataframe tbody tr th {\n",
       "        vertical-align: top;\n",
       "    }\n",
       "\n",
       "    .dataframe thead th {\n",
       "        text-align: right;\n",
       "    }\n",
       "</style>\n",
       "<table border=\"1\" class=\"dataframe\">\n",
       "  <thead>\n",
       "    <tr style=\"text-align: right;\">\n",
       "      <th></th>\n",
       "      <th>groupid</th>\n",
       "      <th>dt</th>\n",
       "      <th>userid</th>\n",
       "      <th>ts</th>\n",
       "    </tr>\n",
       "  </thead>\n",
       "  <tbody>\n",
       "    <tr>\n",
       "      <th>0</th>\n",
       "      <td>0</td>\n",
       "      <td>2021-11-01</td>\n",
       "      <td>1497</td>\n",
       "      <td>1497</td>\n",
       "    </tr>\n",
       "    <tr>\n",
       "      <th>1</th>\n",
       "      <td>0</td>\n",
       "      <td>2021-11-02</td>\n",
       "      <td>1467</td>\n",
       "      <td>1467</td>\n",
       "    </tr>\n",
       "    <tr>\n",
       "      <th>2</th>\n",
       "      <td>0</td>\n",
       "      <td>2021-11-03</td>\n",
       "      <td>1532</td>\n",
       "      <td>1532</td>\n",
       "    </tr>\n",
       "    <tr>\n",
       "      <th>3</th>\n",
       "      <td>0</td>\n",
       "      <td>2021-11-04</td>\n",
       "      <td>1509</td>\n",
       "      <td>1509</td>\n",
       "    </tr>\n",
       "    <tr>\n",
       "      <th>4</th>\n",
       "      <td>0</td>\n",
       "      <td>2021-11-05</td>\n",
       "      <td>1503</td>\n",
       "      <td>1503</td>\n",
       "    </tr>\n",
       "  </tbody>\n",
       "</table>\n",
       "</div>"
      ],
      "text/plain": [
       "   groupid          dt  userid    ts\n",
       "0        0  2021-11-01    1497  1497\n",
       "1        0  2021-11-02    1467  1467\n",
       "2        0  2021-11-03    1532  1532\n",
       "3        0  2021-11-04    1509  1509\n",
       "4        0  2021-11-05    1503  1503"
      ]
     },
     "execution_count": 20,
     "metadata": {},
     "output_type": "execute_result"
    }
   ],
   "source": [
    "data_count.head()"
   ]
  },
  {
   "cell_type": "code",
   "execution_count": 35,
   "id": "primary-store",
   "metadata": {
    "hidden": true
   },
   "outputs": [
    {
     "data": {
      "text/plain": [
       "[Text(0.5, 0, 'Date YYYY-MM-DD'),\n",
       " Text(0, 0.5, 'No. Users'),\n",
       " (1200.0, 1600.0),\n",
       " Text(0.5, 1.0, 'Number of Users Assigned to Each Group Over Time')]"
      ]
     },
     "execution_count": 35,
     "metadata": {},
     "output_type": "execute_result"
    },
    {
     "data": {
      "image/png": "[encoded data removed]",
      "text/plain": [
       "<Figure size 842.4x379.44 with 1 Axes>"
      ]
     },
     "metadata": {},
     "output_type": "display_data"
    }
   ],
   "source": [
    "import seaborn as sns\n",
    "sns.set(rc={'figure.figsize':(11.7,5.27)})\n",
    "sns.set_style('whitegrid')\n",
    "g = sns.lineplot(data = data_count, x = 'dt', y = 'userid', hue = 'groupid')\n",
    "g.tick_params(axis = 'x', labelrotation = 90)\n",
    "g.set(xlabel = 'Date YYYY-MM-DD', ylabel = 'No. Users',ylim = (1200,1600),title = 'Number of Users Assigned to Each Group Over Time')"
   ]
  },
  {
   "cell_type": "markdown",
   "id": "0f34e44e-d187-415e-a172-830da62ca29b",
   "metadata": {},
   "source": [
    "## 2. Pre-test metrics on actual data set"
   ]
  },
  {
   "cell_type": "markdown",
   "id": "04abdb7d-074b-4aed-a86b-677beb44ef37",
   "metadata": {},
   "source": [
    "### 2.1 Daily Active Users (DAU)"
   ]
  },
  {
   "cell_type": "code",
   "execution_count": 36,
   "id": "ec950c0e-8a16-4fa6-a760-370828f2b379",
   "metadata": {},
   "outputs": [],
   "source": [
    "data_act = pd.read_csv(\"Activity_all.csv\")"
   ]
  },
  {
   "cell_type": "code",
   "execution_count": 37,
   "id": "9ebf0779-4af9-4772-964e-76e306697fe7",
   "metadata": {},
   "outputs": [
    {
     "data": {
      "text/html": [
       "<div>\n",
       "<style scoped>\n",
       "    .dataframe tbody tr th:only-of-type {\n",
       "        vertical-align: middle;\n",
       "    }\n",
       "\n",
       "    .dataframe tbody tr th {\n",
       "        vertical-align: top;\n",
       "    }\n",
       "\n",
       "    .dataframe thead th {\n",
       "        text-align: right;\n",
       "    }\n",
       "</style>\n",
       "<table border=\"1\" class=\"dataframe\">\n",
       "  <thead>\n",
       "    <tr style=\"text-align: right;\">\n",
       "      <th></th>\n",
       "      <th>userid</th>\n",
       "      <th>dt</th>\n",
       "      <th>groupid</th>\n",
       "      <th>activity_level</th>\n",
       "    </tr>\n",
       "  </thead>\n",
       "  <tbody>\n",
       "    <tr>\n",
       "      <th>0</th>\n",
       "      <td>a5b70ae7-f07c-4773-9df4-ce112bc9dc48</td>\n",
       "      <td>2021-10-01</td>\n",
       "      <td>0</td>\n",
       "      <td>0</td>\n",
       "    </tr>\n",
       "    <tr>\n",
       "      <th>1</th>\n",
       "      <td>d2646662-269f-49de-aab1-8776afced9a3</td>\n",
       "      <td>2021-10-01</td>\n",
       "      <td>0</td>\n",
       "      <td>0</td>\n",
       "    </tr>\n",
       "    <tr>\n",
       "      <th>2</th>\n",
       "      <td>c4d1cfa8-283d-49ad-a894-90aedc39c798</td>\n",
       "      <td>2021-10-01</td>\n",
       "      <td>1</td>\n",
       "      <td>0</td>\n",
       "    </tr>\n",
       "    <tr>\n",
       "      <th>3</th>\n",
       "      <td>6889f87f-5356-4904-a35a-6ea5020011db</td>\n",
       "      <td>2021-10-01</td>\n",
       "      <td>0</td>\n",
       "      <td>0</td>\n",
       "    </tr>\n",
       "    <tr>\n",
       "      <th>4</th>\n",
       "      <td>dbee604c-474a-4c9d-b013-508e5a0e3059</td>\n",
       "      <td>2021-10-01</td>\n",
       "      <td>1</td>\n",
       "      <td>0</td>\n",
       "    </tr>\n",
       "  </tbody>\n",
       "</table>\n",
       "</div>"
      ],
      "text/plain": [
       "                                 userid          dt  groupid  activity_level\n",
       "0  a5b70ae7-f07c-4773-9df4-ce112bc9dc48  2021-10-01        0               0\n",
       "1  d2646662-269f-49de-aab1-8776afced9a3  2021-10-01        0               0\n",
       "2  c4d1cfa8-283d-49ad-a894-90aedc39c798  2021-10-01        1               0\n",
       "3  6889f87f-5356-4904-a35a-6ea5020011db  2021-10-01        0               0\n",
       "4  dbee604c-474a-4c9d-b013-508e5a0e3059  2021-10-01        1               0"
      ]
     },
     "execution_count": 37,
     "metadata": {},
     "output_type": "execute_result"
    }
   ],
   "source": [
    "data_act.head()"
   ]
  },
  {
   "cell_type": "code",
   "execution_count": 14,
   "id": "a1b7f460-ac2b-4e8c-8b76-2959277be369",
   "metadata": {},
   "outputs": [
    {
     "data": {
      "text/html": [
       "<div>\n",
       "<style scoped>\n",
       "    .dataframe tbody tr th:only-of-type {\n",
       "        vertical-align: middle;\n",
       "    }\n",
       "\n",
       "    .dataframe tbody tr th {\n",
       "        vertical-align: top;\n",
       "    }\n",
       "\n",
       "    .dataframe thead tr th {\n",
       "        text-align: left;\n",
       "    }\n",
       "\n",
       "    .dataframe thead tr:last-of-type th {\n",
       "        text-align: right;\n",
       "    }\n",
       "</style>\n",
       "<table border=\"1\" class=\"dataframe\">\n",
       "  <thead>\n",
       "    <tr>\n",
       "      <th></th>\n",
       "      <th></th>\n",
       "      <th colspan=\"8\" halign=\"left\">activity_level</th>\n",
       "    </tr>\n",
       "    <tr>\n",
       "      <th></th>\n",
       "      <th></th>\n",
       "      <th>count</th>\n",
       "      <th>mean</th>\n",
       "      <th>std</th>\n",
       "      <th>min</th>\n",
       "      <th>25%</th>\n",
       "      <th>50%</th>\n",
       "      <th>75%</th>\n",
       "      <th>max</th>\n",
       "    </tr>\n",
       "    <tr>\n",
       "      <th>groupid</th>\n",
       "      <th>dt</th>\n",
       "      <th></th>\n",
       "      <th></th>\n",
       "      <th></th>\n",
       "      <th></th>\n",
       "      <th></th>\n",
       "      <th></th>\n",
       "      <th></th>\n",
       "      <th></th>\n",
       "    </tr>\n",
       "  </thead>\n",
       "  <tbody>\n",
       "    <tr>\n",
       "      <th rowspan=\"5\" valign=\"top\">0</th>\n",
       "      <th>2021-10-01</th>\n",
       "      <td>29951.0</td>\n",
       "      <td>5.241762</td>\n",
       "      <td>6.516640</td>\n",
       "      <td>0.0</td>\n",
       "      <td>0.0</td>\n",
       "      <td>1.0</td>\n",
       "      <td>10.0</td>\n",
       "      <td>20.0</td>\n",
       "    </tr>\n",
       "    <tr>\n",
       "      <th>2021-10-02</th>\n",
       "      <td>29951.0</td>\n",
       "      <td>5.255885</td>\n",
       "      <td>6.509838</td>\n",
       "      <td>0.0</td>\n",
       "      <td>0.0</td>\n",
       "      <td>1.0</td>\n",
       "      <td>10.0</td>\n",
       "      <td>20.0</td>\n",
       "    </tr>\n",
       "    <tr>\n",
       "      <th>2021-10-03</th>\n",
       "      <td>29951.0</td>\n",
       "      <td>5.266068</td>\n",
       "      <td>6.511458</td>\n",
       "      <td>0.0</td>\n",
       "      <td>0.0</td>\n",
       "      <td>1.0</td>\n",
       "      <td>10.0</td>\n",
       "      <td>20.0</td>\n",
       "    </tr>\n",
       "    <tr>\n",
       "      <th>2021-10-04</th>\n",
       "      <td>29951.0</td>\n",
       "      <td>5.212447</td>\n",
       "      <td>6.511711</td>\n",
       "      <td>0.0</td>\n",
       "      <td>0.0</td>\n",
       "      <td>1.0</td>\n",
       "      <td>10.0</td>\n",
       "      <td>20.0</td>\n",
       "    </tr>\n",
       "    <tr>\n",
       "      <th>2021-10-05</th>\n",
       "      <td>29951.0</td>\n",
       "      <td>5.177590</td>\n",
       "      <td>6.512791</td>\n",
       "      <td>0.0</td>\n",
       "      <td>0.0</td>\n",
       "      <td>1.0</td>\n",
       "      <td>10.0</td>\n",
       "      <td>20.0</td>\n",
       "    </tr>\n",
       "    <tr>\n",
       "      <th>...</th>\n",
       "      <th>...</th>\n",
       "      <td>...</td>\n",
       "      <td>...</td>\n",
       "      <td>...</td>\n",
       "      <td>...</td>\n",
       "      <td>...</td>\n",
       "      <td>...</td>\n",
       "      <td>...</td>\n",
       "      <td>...</td>\n",
       "    </tr>\n",
       "    <tr>\n",
       "      <th rowspan=\"5\" valign=\"top\">1</th>\n",
       "      <th>2021-11-26</th>\n",
       "      <td>30049.0</td>\n",
       "      <td>10.031216</td>\n",
       "      <td>5.770582</td>\n",
       "      <td>0.0</td>\n",
       "      <td>5.0</td>\n",
       "      <td>10.0</td>\n",
       "      <td>15.0</td>\n",
       "      <td>20.0</td>\n",
       "    </tr>\n",
       "    <tr>\n",
       "      <th>2021-11-27</th>\n",
       "      <td>30049.0</td>\n",
       "      <td>10.026024</td>\n",
       "      <td>5.774141</td>\n",
       "      <td>0.0</td>\n",
       "      <td>5.0</td>\n",
       "      <td>10.0</td>\n",
       "      <td>15.0</td>\n",
       "      <td>20.0</td>\n",
       "    </tr>\n",
       "    <tr>\n",
       "      <th>2021-11-28</th>\n",
       "      <td>30049.0</td>\n",
       "      <td>9.975307</td>\n",
       "      <td>5.788257</td>\n",
       "      <td>0.0</td>\n",
       "      <td>5.0</td>\n",
       "      <td>10.0</td>\n",
       "      <td>15.0</td>\n",
       "      <td>20.0</td>\n",
       "    </tr>\n",
       "    <tr>\n",
       "      <th>2021-11-29</th>\n",
       "      <td>30049.0</td>\n",
       "      <td>9.970781</td>\n",
       "      <td>5.799546</td>\n",
       "      <td>0.0</td>\n",
       "      <td>5.0</td>\n",
       "      <td>10.0</td>\n",
       "      <td>15.0</td>\n",
       "      <td>20.0</td>\n",
       "    </tr>\n",
       "    <tr>\n",
       "      <th>2021-11-30</th>\n",
       "      <td>30049.0</td>\n",
       "      <td>9.963926</td>\n",
       "      <td>5.764812</td>\n",
       "      <td>0.0</td>\n",
       "      <td>5.0</td>\n",
       "      <td>10.0</td>\n",
       "      <td>15.0</td>\n",
       "      <td>20.0</td>\n",
       "    </tr>\n",
       "  </tbody>\n",
       "</table>\n",
       "<p>122 rows × 8 columns</p>\n",
       "</div>"
      ],
      "text/plain": [
       "                   activity_level                                             \\\n",
       "                            count       mean       std  min  25%   50%   75%   \n",
       "groupid dt                                                                     \n",
       "0       2021-10-01        29951.0   5.241762  6.516640  0.0  0.0   1.0  10.0   \n",
       "        2021-10-02        29951.0   5.255885  6.509838  0.0  0.0   1.0  10.0   \n",
       "        2021-10-03        29951.0   5.266068  6.511458  0.0  0.0   1.0  10.0   \n",
       "        2021-10-04        29951.0   5.212447  6.511711  0.0  0.0   1.0  10.0   \n",
       "        2021-10-05        29951.0   5.177590  6.512791  0.0  0.0   1.0  10.0   \n",
       "...                           ...        ...       ...  ...  ...   ...   ...   \n",
       "1       2021-11-26        30049.0  10.031216  5.770582  0.0  5.0  10.0  15.0   \n",
       "        2021-11-27        30049.0  10.026024  5.774141  0.0  5.0  10.0  15.0   \n",
       "        2021-11-28        30049.0   9.975307  5.788257  0.0  5.0  10.0  15.0   \n",
       "        2021-11-29        30049.0   9.970781  5.799546  0.0  5.0  10.0  15.0   \n",
       "        2021-11-30        30049.0   9.963926  5.764812  0.0  5.0  10.0  15.0   \n",
       "\n",
       "                          \n",
       "                     max  \n",
       "groupid dt                \n",
       "0       2021-10-01  20.0  \n",
       "        2021-10-02  20.0  \n",
       "        2021-10-03  20.0  \n",
       "        2021-10-04  20.0  \n",
       "        2021-10-05  20.0  \n",
       "...                  ...  \n",
       "1       2021-11-26  20.0  \n",
       "        2021-11-27  20.0  \n",
       "        2021-11-28  20.0  \n",
       "        2021-11-29  20.0  \n",
       "        2021-11-30  20.0  \n",
       "\n",
       "[122 rows x 8 columns]"
      ]
     },
     "execution_count": 14,
     "metadata": {},
     "output_type": "execute_result"
    }
   ],
   "source": [
    "data_act.groupby(['groupid','dt']).describe()"
   ]
  },
  {
   "cell_type": "code",
   "execution_count": 50,
   "id": "e8b6623d-52ae-4dc0-b408-e7cb89fce5da",
   "metadata": {},
   "outputs": [
    {
     "data": {
      "text/html": [
       "<div>\n",
       "<style scoped>\n",
       "    .dataframe tbody tr th:only-of-type {\n",
       "        vertical-align: middle;\n",
       "    }\n",
       "\n",
       "    .dataframe tbody tr th {\n",
       "        vertical-align: top;\n",
       "    }\n",
       "\n",
       "    .dataframe thead th {\n",
       "        text-align: right;\n",
       "    }\n",
       "</style>\n",
       "<table border=\"1\" class=\"dataframe\">\n",
       "  <thead>\n",
       "    <tr style=\"text-align: right;\">\n",
       "      <th></th>\n",
       "      <th>dt</th>\n",
       "      <th>groupid</th>\n",
       "      <th>userid</th>\n",
       "      <th>activity_level</th>\n",
       "    </tr>\n",
       "  </thead>\n",
       "  <tbody>\n",
       "    <tr>\n",
       "      <th>0</th>\n",
       "      <td>2021-10-01</td>\n",
       "      <td>0</td>\n",
       "      <td>15337</td>\n",
       "      <td>15337</td>\n",
       "    </tr>\n",
       "    <tr>\n",
       "      <th>1</th>\n",
       "      <td>2021-10-01</td>\n",
       "      <td>1</td>\n",
       "      <td>15297</td>\n",
       "      <td>15297</td>\n",
       "    </tr>\n",
       "    <tr>\n",
       "      <th>2</th>\n",
       "      <td>2021-10-02</td>\n",
       "      <td>0</td>\n",
       "      <td>15354</td>\n",
       "      <td>15354</td>\n",
       "    </tr>\n",
       "    <tr>\n",
       "      <th>3</th>\n",
       "      <td>2021-10-02</td>\n",
       "      <td>1</td>\n",
       "      <td>15421</td>\n",
       "      <td>15421</td>\n",
       "    </tr>\n",
       "    <tr>\n",
       "      <th>4</th>\n",
       "      <td>2021-10-03</td>\n",
       "      <td>0</td>\n",
       "      <td>15423</td>\n",
       "      <td>15423</td>\n",
       "    </tr>\n",
       "  </tbody>\n",
       "</table>\n",
       "</div>"
      ],
      "text/plain": [
       "           dt  groupid  userid  activity_level\n",
       "0  2021-10-01        0   15337           15337\n",
       "1  2021-10-01        1   15297           15297\n",
       "2  2021-10-02        0   15354           15354\n",
       "3  2021-10-02        1   15421           15421\n",
       "4  2021-10-03        0   15423           15423"
      ]
     },
     "execution_count": 50,
     "metadata": {},
     "output_type": "execute_result"
    }
   ],
   "source": [
    "df_clean = data_act.query('activity_level > 0').groupby(['dt', 'groupid']).count().sort_values(by = ['dt']).reset_index()\n",
    "df_clean.head()"
   ]
  },
  {
   "cell_type": "code",
   "execution_count": 51,
   "id": "covered-theology",
   "metadata": {},
   "outputs": [
    {
     "data": {
      "text/plain": [
       "[Text(0.5, 0, 'Date YYYY-MM-DD'),\n",
       " Text(0, 0.5, 'No. Users'),\n",
       " Text(0.5, 1.0, 'Number of Users Assigned to Each Group Over Time')]"
      ]
     },
     "execution_count": 51,
     "metadata": {},
     "output_type": "execute_result"
    },
    {
     "data": {
      "image/png": "[encoded data removed]",
      "text/plain": [
       "<Figure size 842.4x379.44 with 1 Axes>"
      ]
     },
     "metadata": {},
     "output_type": "display_data"
    }
   ],
   "source": [
    "sns.set(rc={'figure.figsize':(11.7,5.27)})\n",
    "sns.set_style('whitegrid')\n",
    "g = sns.lineplot(data = df_clean, x = 'dt', y = 'userid', hue = 'groupid')\n",
    "g.tick_params(axis = 'x', labelrotation = 90)\n",
    "g.set(xlabel = 'Date YYYY-MM-DD', ylabel = 'No. Users',title = 'Number of Users Assigned to Each Group Over Time')"
   ]
  },
  {
   "cell_type": "markdown",
   "id": "favorite-halifax",
   "metadata": {},
   "source": [
    "The above figure shows a significant increase in user activity with good consistency over time since the test started. Also observed is a slight increase (ca.1000) increase in user activity for the conrol group between 2021-11-02 to2021-11-20. This pattern is not observed in the test group. Therefore we would like to analyse this further if data is avaialble. "
   ]
  },
  {
   "cell_type": "markdown",
   "id": "front-exhaust",
   "metadata": {},
   "source": [
    "The statistics suggest that the test is successful on user activity in terms of **daily active user(DAU)** by a much improved mean (15782 - 29302) and median (15990 - 29300). Nonetheless, we would like to have a look of **user retention** if we have access to this data.\n",
    "\n",
    "#### (1) Statistics for the control group"
   ]
  },
  {
   "cell_type": "code",
   "execution_count": 19,
   "id": "f8f821a4-0c02-4b5b-9385-d9041dfdeb2f",
   "metadata": {},
   "outputs": [
    {
     "data": {
      "text/html": [
       "<div>\n",
       "<style scoped>\n",
       "    .dataframe tbody tr th:only-of-type {\n",
       "        vertical-align: middle;\n",
       "    }\n",
       "\n",
       "    .dataframe tbody tr th {\n",
       "        vertical-align: top;\n",
       "    }\n",
       "\n",
       "    .dataframe thead th {\n",
       "        text-align: right;\n",
       "    }\n",
       "</style>\n",
       "<table border=\"1\" class=\"dataframe\">\n",
       "  <thead>\n",
       "    <tr style=\"text-align: right;\">\n",
       "      <th></th>\n",
       "      <th>groupid</th>\n",
       "      <th>activity_level</th>\n",
       "    </tr>\n",
       "  </thead>\n",
       "  <tbody>\n",
       "    <tr>\n",
       "      <th>count</th>\n",
       "      <td>30.0</td>\n",
       "      <td>30.000000</td>\n",
       "    </tr>\n",
       "    <tr>\n",
       "      <th>mean</th>\n",
       "      <td>0.0</td>\n",
       "      <td>15782.000000</td>\n",
       "    </tr>\n",
       "    <tr>\n",
       "      <th>std</th>\n",
       "      <td>0.0</td>\n",
       "      <td>371.077276</td>\n",
       "    </tr>\n",
       "    <tr>\n",
       "      <th>min</th>\n",
       "      <td>0.0</td>\n",
       "      <td>15163.000000</td>\n",
       "    </tr>\n",
       "    <tr>\n",
       "      <th>25%</th>\n",
       "      <td>0.0</td>\n",
       "      <td>15335.000000</td>\n",
       "    </tr>\n",
       "    <tr>\n",
       "      <th>50%</th>\n",
       "      <td>0.0</td>\n",
       "      <td>15990.500000</td>\n",
       "    </tr>\n",
       "    <tr>\n",
       "      <th>75%</th>\n",
       "      <td>0.0</td>\n",
       "      <td>16045.000000</td>\n",
       "    </tr>\n",
       "    <tr>\n",
       "      <th>max</th>\n",
       "      <td>0.0</td>\n",
       "      <td>16147.000000</td>\n",
       "    </tr>\n",
       "  </tbody>\n",
       "</table>\n",
       "</div>"
      ],
      "text/plain": [
       "       groupid  activity_level\n",
       "count     30.0       30.000000\n",
       "mean       0.0    15782.000000\n",
       "std        0.0      371.077276\n",
       "min        0.0    15163.000000\n",
       "25%        0.0    15335.000000\n",
       "50%        0.0    15990.500000\n",
       "75%        0.0    16045.000000\n",
       "max        0.0    16147.000000"
      ]
     },
     "execution_count": 19,
     "metadata": {},
     "output_type": "execute_result"
    }
   ],
   "source": [
    "(\n",
    "    data_act.query('activity_level > 0 and groupid == 0 and dt >= \"2021-11-01\"')\n",
    "    .groupby(['dt','groupid']).count().reset_index()[['groupid','activity_level']].describe()\n",
    ")"
   ]
  },
  {
   "cell_type": "markdown",
   "id": "twelve-cheese",
   "metadata": {},
   "source": [
    "#### (2) Statistics for the test group"
   ]
  },
  {
   "cell_type": "code",
   "execution_count": 20,
   "id": "c9c9b2f9-d220-44d4-9f1b-12861828978b",
   "metadata": {},
   "outputs": [
    {
     "data": {
      "text/html": [
       "<div>\n",
       "<style scoped>\n",
       "    .dataframe tbody tr th:only-of-type {\n",
       "        vertical-align: middle;\n",
       "    }\n",
       "\n",
       "    .dataframe tbody tr th {\n",
       "        vertical-align: top;\n",
       "    }\n",
       "\n",
       "    .dataframe thead th {\n",
       "        text-align: right;\n",
       "    }\n",
       "</style>\n",
       "<table border=\"1\" class=\"dataframe\">\n",
       "  <thead>\n",
       "    <tr style=\"text-align: right;\">\n",
       "      <th></th>\n",
       "      <th>groupid</th>\n",
       "      <th>activity_level</th>\n",
       "    </tr>\n",
       "  </thead>\n",
       "  <tbody>\n",
       "    <tr>\n",
       "      <th>count</th>\n",
       "      <td>30.0</td>\n",
       "      <td>30.000000</td>\n",
       "    </tr>\n",
       "    <tr>\n",
       "      <th>mean</th>\n",
       "      <td>1.0</td>\n",
       "      <td>29302.433333</td>\n",
       "    </tr>\n",
       "    <tr>\n",
       "      <th>std</th>\n",
       "      <td>0.0</td>\n",
       "      <td>30.417422</td>\n",
       "    </tr>\n",
       "    <tr>\n",
       "      <th>min</th>\n",
       "      <td>1.0</td>\n",
       "      <td>29255.000000</td>\n",
       "    </tr>\n",
       "    <tr>\n",
       "      <th>25%</th>\n",
       "      <td>1.0</td>\n",
       "      <td>29280.000000</td>\n",
       "    </tr>\n",
       "    <tr>\n",
       "      <th>50%</th>\n",
       "      <td>1.0</td>\n",
       "      <td>29300.000000</td>\n",
       "    </tr>\n",
       "    <tr>\n",
       "      <th>75%</th>\n",
       "      <td>1.0</td>\n",
       "      <td>29321.000000</td>\n",
       "    </tr>\n",
       "    <tr>\n",
       "      <th>max</th>\n",
       "      <td>1.0</td>\n",
       "      <td>29382.000000</td>\n",
       "    </tr>\n",
       "  </tbody>\n",
       "</table>\n",
       "</div>"
      ],
      "text/plain": [
       "       groupid  activity_level\n",
       "count     30.0       30.000000\n",
       "mean       1.0    29302.433333\n",
       "std        0.0       30.417422\n",
       "min        1.0    29255.000000\n",
       "25%        1.0    29280.000000\n",
       "50%        1.0    29300.000000\n",
       "75%        1.0    29321.000000\n",
       "max        1.0    29382.000000"
      ]
     },
     "execution_count": 20,
     "metadata": {},
     "output_type": "execute_result"
    }
   ],
   "source": [
    "(\n",
    "    data_act.query('activity_level > 0 and groupid == 1 and dt >= \"2021-11-01\"')\n",
    "    .groupby(['dt','groupid']).count().reset_index()[['groupid','activity_level']].describe()\n",
    ")"
   ]
  },
  {
   "cell_type": "markdown",
   "id": "stylish-wilderness",
   "metadata": {},
   "source": [
    "#### (3) DAU before and after test start"
   ]
  },
  {
   "cell_type": "markdown",
   "id": "equivalent-stability",
   "metadata": {},
   "source": [
    "We see a similar level of activity (mean, std) for the test and control group before the test. Hence we are reassured that there is no or negligible pre-test bias. "
   ]
  },
  {
   "cell_type": "code",
   "execution_count": 22,
   "id": "3cef8287-1529-42ef-b075-dcc7a1930cec",
   "metadata": {},
   "outputs": [
    {
     "data": {
      "text/html": [
       "<div>\n",
       "<style scoped>\n",
       "    .dataframe tbody tr th:only-of-type {\n",
       "        vertical-align: middle;\n",
       "    }\n",
       "\n",
       "    .dataframe tbody tr th {\n",
       "        vertical-align: top;\n",
       "    }\n",
       "\n",
       "    .dataframe thead tr th {\n",
       "        text-align: left;\n",
       "    }\n",
       "\n",
       "    .dataframe thead tr:last-of-type th {\n",
       "        text-align: right;\n",
       "    }\n",
       "</style>\n",
       "<table border=\"1\" class=\"dataframe\">\n",
       "  <thead>\n",
       "    <tr>\n",
       "      <th></th>\n",
       "      <th colspan=\"8\" halign=\"left\">activity_level</th>\n",
       "    </tr>\n",
       "    <tr>\n",
       "      <th></th>\n",
       "      <th>count</th>\n",
       "      <th>mean</th>\n",
       "      <th>std</th>\n",
       "      <th>min</th>\n",
       "      <th>25%</th>\n",
       "      <th>50%</th>\n",
       "      <th>75%</th>\n",
       "      <th>max</th>\n",
       "    </tr>\n",
       "    <tr>\n",
       "      <th>groupid</th>\n",
       "      <th></th>\n",
       "      <th></th>\n",
       "      <th></th>\n",
       "      <th></th>\n",
       "      <th></th>\n",
       "      <th></th>\n",
       "      <th></th>\n",
       "      <th></th>\n",
       "    </tr>\n",
       "  </thead>\n",
       "  <tbody>\n",
       "    <tr>\n",
       "      <th>0</th>\n",
       "      <td>928481.0</td>\n",
       "      <td>5.245635</td>\n",
       "      <td>6.521184</td>\n",
       "      <td>0.0</td>\n",
       "      <td>0.0</td>\n",
       "      <td>1.0</td>\n",
       "      <td>10.0</td>\n",
       "      <td>20.0</td>\n",
       "    </tr>\n",
       "    <tr>\n",
       "      <th>1</th>\n",
       "      <td>931519.0</td>\n",
       "      <td>5.240952</td>\n",
       "      <td>6.520811</td>\n",
       "      <td>0.0</td>\n",
       "      <td>0.0</td>\n",
       "      <td>1.0</td>\n",
       "      <td>10.0</td>\n",
       "      <td>20.0</td>\n",
       "    </tr>\n",
       "  </tbody>\n",
       "</table>\n",
       "</div>"
      ],
      "text/plain": [
       "        activity_level                                               \n",
       "                 count      mean       std  min  25%  50%   75%   max\n",
       "groupid                                                              \n",
       "0             928481.0  5.245635  6.521184  0.0  0.0  1.0  10.0  20.0\n",
       "1             931519.0  5.240952  6.520811  0.0  0.0  1.0  10.0  20.0"
      ]
     },
     "execution_count": 22,
     "metadata": {},
     "output_type": "execute_result"
    }
   ],
   "source": [
    "data_act.query('dt < \"2021-11-01\"').groupby(['groupid']).describe()"
   ]
  },
  {
   "cell_type": "markdown",
   "id": "recognized-equity",
   "metadata": {},
   "source": [
    "We see a significant increase (5.4 -> 10.0) in mean activity level in the test group after test started. \n",
    "\n",
    "The difference is caused by the AB test."
   ]
  },
  {
   "cell_type": "code",
   "execution_count": 52,
   "id": "77bd83cf-ec2c-41a4-b4d9-683256d794f2",
   "metadata": {},
   "outputs": [
    {
     "data": {
      "text/html": [
       "<div>\n",
       "<style scoped>\n",
       "    .dataframe tbody tr th:only-of-type {\n",
       "        vertical-align: middle;\n",
       "    }\n",
       "\n",
       "    .dataframe tbody tr th {\n",
       "        vertical-align: top;\n",
       "    }\n",
       "\n",
       "    .dataframe thead tr th {\n",
       "        text-align: left;\n",
       "    }\n",
       "\n",
       "    .dataframe thead tr:last-of-type th {\n",
       "        text-align: right;\n",
       "    }\n",
       "</style>\n",
       "<table border=\"1\" class=\"dataframe\">\n",
       "  <thead>\n",
       "    <tr>\n",
       "      <th></th>\n",
       "      <th colspan=\"8\" halign=\"left\">activity_level</th>\n",
       "    </tr>\n",
       "    <tr>\n",
       "      <th></th>\n",
       "      <th>count</th>\n",
       "      <th>mean</th>\n",
       "      <th>std</th>\n",
       "      <th>min</th>\n",
       "      <th>25%</th>\n",
       "      <th>50%</th>\n",
       "      <th>75%</th>\n",
       "      <th>max</th>\n",
       "    </tr>\n",
       "    <tr>\n",
       "      <th>groupid</th>\n",
       "      <th></th>\n",
       "      <th></th>\n",
       "      <th></th>\n",
       "      <th></th>\n",
       "      <th></th>\n",
       "      <th></th>\n",
       "      <th></th>\n",
       "      <th></th>\n",
       "    </tr>\n",
       "  </thead>\n",
       "  <tbody>\n",
       "    <tr>\n",
       "      <th>0</th>\n",
       "      <td>898530.0</td>\n",
       "      <td>5.402211</td>\n",
       "      <td>6.55557</td>\n",
       "      <td>0.0</td>\n",
       "      <td>0.0</td>\n",
       "      <td>1.0</td>\n",
       "      <td>11.0</td>\n",
       "      <td>20.0</td>\n",
       "    </tr>\n",
       "    <tr>\n",
       "      <th>1</th>\n",
       "      <td>901470.0</td>\n",
       "      <td>9.996304</td>\n",
       "      <td>5.78868</td>\n",
       "      <td>0.0</td>\n",
       "      <td>5.0</td>\n",
       "      <td>10.0</td>\n",
       "      <td>15.0</td>\n",
       "      <td>20.0</td>\n",
       "    </tr>\n",
       "  </tbody>\n",
       "</table>\n",
       "</div>"
      ],
      "text/plain": [
       "        activity_level                                               \n",
       "                 count      mean      std  min  25%   50%   75%   max\n",
       "groupid                                                              \n",
       "0             898530.0  5.402211  6.55557  0.0  0.0   1.0  11.0  20.0\n",
       "1             901470.0  9.996304  5.78868  0.0  5.0  10.0  15.0  20.0"
      ]
     },
     "execution_count": 52,
     "metadata": {},
     "output_type": "execute_result"
    }
   ],
   "source": [
    "data_act.query('dt >= \"2021-11-01\"').groupby(['groupid']).describe()"
   ]
  },
  {
   "cell_type": "markdown",
   "id": "39cf46cb-0c1e-40f2-9a36-631a7dbaacf5",
   "metadata": {},
   "source": [
    "### 2.2 Comparing the activity between the groups"
   ]
  },
  {
   "cell_type": "markdown",
   "id": "dfe26f82-0648-4b16-acac-3dd2f4b907f2",
   "metadata": {},
   "source": [
    "#### (1) By P value\n",
    "\n",
    "Run a T test to calculate P-value. P-value measures *the probability of obtaining the observed results providing the null hypothesis is true*\n",
    "\n",
    "\n",
    "A very small P-value indicate a great statistical significance. In other words, it means a very little chance that the results are 'by chance'"
   ]
  },
  {
   "cell_type": "code",
   "execution_count": 101,
   "id": "15019ca0-7a63-44d1-9dce-916ddacf28eb",
   "metadata": {},
   "outputs": [
    {
     "name": "stdout",
     "output_type": "stream",
     "text": [
      "The P value is 0.0000000000\n"
     ]
    }
   ],
   "source": [
    "#pass the activity level to a numpy array\n",
    "res = ttest_ind(data_act.query('groupid == 0 and dt >= \"2021-11-01\"')['activity_level'].to_numpy(),\n",
    "                data_act.query('groupid == 1 and dt >= \"2021-11-01\"')['activity_level'].to_numpy()).pvalue\n",
    "\n",
    "print('The P value is', \"{:.10f}\".format(res))"
   ]
  },
  {
   "cell_type": "markdown",
   "id": "bacfced1-1702-498d-812b-57e4cb5262ab",
   "metadata": {},
   "source": [
    "#### (2) By daily active user (DAU)\n",
    "\n",
    "We first devide the groups in to pre-test and post-test:"
   ]
  },
  {
   "cell_type": "code",
   "execution_count": 103,
   "id": "a49dbd4f-fe53-4068-bba3-a459f76e0273",
   "metadata": {},
   "outputs": [],
   "source": [
    "before = data_act_count.query('dt < \"2021-11-01\"')\n",
    "after = data_act_count.query('dt >= \"2021-11-01\"')"
   ]
  },
  {
   "cell_type": "markdown",
   "id": "02203cd0-0525-4ce3-9e95-b61f0a1ec781",
   "metadata": {},
   "source": [
    "Then we check for the **pre-test bias** on activity level before the test. \n",
    "We see a very similar mean value for the two groups and therefore there is likely no pre-test bias"
   ]
  },
  {
   "cell_type": "code",
   "execution_count": 104,
   "id": "4e037632-1216-44d2-9d44-4ec2dca80ffb",
   "metadata": {},
   "outputs": [
    {
     "name": "stdout",
     "output_type": "stream",
     "text": [
      "Use actvity before test started:\n",
      "mean value for group 0:  15320.870967741936 ;\n",
      "mean value for group 1:  15352.516129032258\n"
     ]
    }
   ],
   "source": [
    "before_0_au =  np.mean(before.query('groupid == 0')['userid'].to_numpy())\n",
    "before_1_au =  np.mean(before.query('groupid == 1')['userid'].to_numpy())\n",
    "print('Use actvity before test started:')\n",
    "print('mean value for group 0: ', before_0_au,';\\nmean value for group 1: ', before_1_au)"
   ]
  },
  {
   "cell_type": "markdown",
   "id": "genetic-sister",
   "metadata": {},
   "source": [
    "#### (3) Check pre-test bias by P value\n",
    "A P value at 0.16 suggests insufficient statistical significance.\n",
    "That is, we expect no difference in user engagement for the two groups before the tests start. In other words, it re-assured us that there is no or negligible pre-test bias."
   ]
  },
  {
   "cell_type": "code",
   "execution_count": 109,
   "id": "b2134b34-4290-49d9-9038-77963642d9b5",
   "metadata": {},
   "outputs": [
    {
     "name": "stdout",
     "output_type": "stream",
     "text": [
      "The p value before test is 0.1630842353828083\n"
     ]
    }
   ],
   "source": [
    "res = ttest_ind(before.query('groupid == 0')['userid'].to_numpy(), before.query('groupid == 1')['userid']\n",
    "                .to_numpy()).pvalue\n",
    "\n",
    "print('The p value before test is', res)"
   ]
  },
  {
   "cell_type": "markdown",
   "id": "communist-relay",
   "metadata": {},
   "source": [
    "#### (4) P-value after test\n",
    "The siginificant difference in sample mean after test started shows an improved user activity. A p-value close to 0 indicates a very hi\n",
    "\n",
    "We can therefore reject H0 and concludes that tailered ads increases DAU"
   ]
  },
  {
   "cell_type": "code",
   "execution_count": 110,
   "id": "310c8d47-f759-48d3-8158-b8b2fa41d2b7",
   "metadata": {},
   "outputs": [
    {
     "name": "stdout",
     "output_type": "stream",
     "text": [
      "Sample mean in CONTROL group after the test is 15782.0\n",
      "Sample mean in TEST group after the test is 29302.433333333334\n"
     ]
    }
   ],
   "source": [
    "mean_a0 = np.mean(after.query('groupid == 0')['userid'].to_numpy())\n",
    "mean_a1 = np.mean(after.query('groupid == 1')['userid'].to_numpy())\n",
    "print('Sample mean in CONTROL group after the test is', mean_a0)\n",
    "print('Sample mean in TEST group after the test is', mean_a1)"
   ]
  },
  {
   "cell_type": "code",
   "execution_count": 108,
   "id": "64d988cd-2834-4106-a65f-dad544c743ba",
   "metadata": {},
   "outputs": [
    {
     "name": "stdout",
     "output_type": "stream",
     "text": [
      "P value after test is 6.590603584107244e-84\n"
     ]
    }
   ],
   "source": [
    "res = ttest_ind(after.query('groupid == 0')['userid'].to_numpy(), after.query('groupid == 1')['userid']\n",
    "                .to_numpy()).pvalue\n",
    "\n",
    "print('P value after test is', res)"
   ]
  },
  {
   "cell_type": "markdown",
   "id": "811ad1c5-021f-4081-986a-7694701220c9",
   "metadata": {
    "heading_collapsed": true
   },
   "source": [
    "### 2.3 Click through rate (CTR)"
   ]
  },
  {
   "cell_type": "markdown",
   "id": "destroyed-anthony",
   "metadata": {
    "hidden": true
   },
   "source": [
    "#### (1) Plot the data\n",
    "A significant increase in CTR since test start (2021-11-01) is observed."
   ]
  },
  {
   "cell_type": "code",
   "execution_count": 99,
   "id": "55b3440e-f138-4226-8929-da46fd60ed1b",
   "metadata": {
    "hidden": true
   },
   "outputs": [
    {
     "data": {
      "text/html": [
       "<div>\n",
       "<style scoped>\n",
       "    .dataframe tbody tr th:only-of-type {\n",
       "        vertical-align: middle;\n",
       "    }\n",
       "\n",
       "    .dataframe tbody tr th {\n",
       "        vertical-align: top;\n",
       "    }\n",
       "\n",
       "    .dataframe thead th {\n",
       "        text-align: right;\n",
       "    }\n",
       "</style>\n",
       "<table border=\"1\" class=\"dataframe\">\n",
       "  <thead>\n",
       "    <tr style=\"text-align: right;\">\n",
       "      <th></th>\n",
       "      <th>userid</th>\n",
       "      <th>dt</th>\n",
       "      <th>groupid</th>\n",
       "      <th>ctr</th>\n",
       "    </tr>\n",
       "  </thead>\n",
       "  <tbody>\n",
       "    <tr>\n",
       "      <th>0</th>\n",
       "      <td>60389fa7-2d71-4cdf-831c-c2bb277ffa1e</td>\n",
       "      <td>2021-11-13</td>\n",
       "      <td>0</td>\n",
       "      <td>31.81</td>\n",
       "    </tr>\n",
       "    <tr>\n",
       "      <th>1</th>\n",
       "      <td>b59cb225-d160-4851-92d2-7cc8120a2f63</td>\n",
       "      <td>2021-11-13</td>\n",
       "      <td>0</td>\n",
       "      <td>30.46</td>\n",
       "    </tr>\n",
       "    <tr>\n",
       "      <th>2</th>\n",
       "      <td>aa336050-934e-453f-a5b0-dd881fcd114e</td>\n",
       "      <td>2021-11-13</td>\n",
       "      <td>0</td>\n",
       "      <td>34.25</td>\n",
       "    </tr>\n",
       "    <tr>\n",
       "      <th>3</th>\n",
       "      <td>8df767f4-a10f-4322-a722-676b7e02b372</td>\n",
       "      <td>2021-11-13</td>\n",
       "      <td>0</td>\n",
       "      <td>34.92</td>\n",
       "    </tr>\n",
       "    <tr>\n",
       "      <th>4</th>\n",
       "      <td>a74762ed-4da0-42ab-91d2-40d7e808dfe9</td>\n",
       "      <td>2021-11-13</td>\n",
       "      <td>0</td>\n",
       "      <td>34.95</td>\n",
       "    </tr>\n",
       "  </tbody>\n",
       "</table>\n",
       "</div>"
      ],
      "text/plain": [
       "                                 userid          dt  groupid    ctr\n",
       "0  60389fa7-2d71-4cdf-831c-c2bb277ffa1e  2021-11-13        0  31.81\n",
       "1  b59cb225-d160-4851-92d2-7cc8120a2f63  2021-11-13        0  30.46\n",
       "2  aa336050-934e-453f-a5b0-dd881fcd114e  2021-11-13        0  34.25\n",
       "3  8df767f4-a10f-4322-a722-676b7e02b372  2021-11-13        0  34.92\n",
       "4  a74762ed-4da0-42ab-91d2-40d7e808dfe9  2021-11-13        0  34.95"
      ]
     },
     "execution_count": 99,
     "metadata": {},
     "output_type": "execute_result"
    }
   ],
   "source": [
    "data_ctr = pd.read_csv(\"ctr_all.csv\")\n",
    "data_ctr.head()"
   ]
  },
  {
   "cell_type": "code",
   "execution_count": 74,
   "id": "133cf1a1-3b2c-480b-a0f5-26a7f8d8d8e3",
   "metadata": {
    "code_folding": [],
    "hidden": true
   },
   "outputs": [],
   "source": [
    "#calculate average ctr according to groupid and dt\n",
    "data_ctr_avg = data_ctr.groupby(['groupid','dt']).mean().sort_values(['dt']).reset_index()"
   ]
  },
  {
   "cell_type": "code",
   "execution_count": 100,
   "id": "advised-worship",
   "metadata": {
    "hidden": true
   },
   "outputs": [
    {
     "data": {
      "text/plain": [
       "[Text(0.5, 0, 'Date YYYY-MM-DD'),\n",
       " Text(0, 0.5, 'CTR'),\n",
       " Text(0.5, 1.0, 'CTR for Each Group Over Time')]"
      ]
     },
     "execution_count": 100,
     "metadata": {},
     "output_type": "execute_result"
    },
    {
     "data": {
      "image/png": "[encoded data removed]",
      "text/plain": [
       "<Figure size 842.4x379.44 with 1 Axes>"
      ]
     },
     "metadata": {},
     "output_type": "display_data"
    }
   ],
   "source": [
    "#plot CTR against time\n",
    "sns.set(rc={'figure.figsize':(11.7,5.27)})\n",
    "sns.set_style('whitegrid')\n",
    "g = sns.lineplot(data = data_ctr_avg, x = 'dt', y = 'ctr', hue = 'groupid')\n",
    "g.tick_params(axis = 'x', labelrotation = 90)\n",
    "g.set(xlabel = 'Date YYYY-MM-DD', ylabel = 'CTR',title = 'CTR for Each Group Over Time')"
   ]
  },
  {
   "cell_type": "markdown",
   "id": "right-civilization",
   "metadata": {
    "hidden": true
   },
   "source": [
    "#### (2) pretest bias check\n",
    "\n",
    "Apart from a similar sample mean, we also see a similar level of std for the two group.    \n",
    "Therefore we can conclude there is little or no pre-test bias"
   ]
  },
  {
   "cell_type": "code",
   "execution_count": 79,
   "id": "0fcb9999-0c2f-4f51-9f61-ff7bcf9065eb",
   "metadata": {
    "hidden": true
   },
   "outputs": [],
   "source": [
    "before = data_ctr.query('dt < \"2021-11-01\"')[['groupid', 'ctr']]\n",
    "after = data_ctr.query('dt >= \"2021-11-01\"')[['groupid', 'ctr']]"
   ]
  },
  {
   "cell_type": "code",
   "execution_count": 91,
   "id": "e361078c-b856-4c7a-b309-647135e7a5dd",
   "metadata": {
    "hidden": true
   },
   "outputs": [
    {
     "name": "stdout",
     "output_type": "stream",
     "text": [
      "CTR before test started:\n",
      "mean value for group 0:  33.00091277553074 ;\n",
      "mean value for group 1:  32.99957172093258\n"
     ]
    }
   ],
   "source": [
    "before_0 = before.query('groupid == 0')['ctr'].to_numpy().mean()\n",
    "before_1 = before.query('groupid == 1')['ctr'].to_numpy().mean()\n",
    "\n",
    "print('CTR before test started:')\n",
    "print('mean value for group 0: ', before_0,';\\nmean value for group 1: ', before_1)"
   ]
  },
  {
   "cell_type": "markdown",
   "id": "level-fountain",
   "metadata": {
    "hidden": true
   },
   "source": [
    "#### (3) Test performance\n",
    "\n",
    "* We see an increase of ca. 5% in CTR after test started    \n",
    "\n",
    "* A similar std after test started suggest a negligible change in sample distribution. It only shifts towards a higher level with the existing shape, which is expected. "
   ]
  },
  {
   "cell_type": "code",
   "execution_count": 92,
   "id": "30b93d91-cac5-4d48-82c2-a9920d838706",
   "metadata": {
    "hidden": true
   },
   "outputs": [
    {
     "name": "stdout",
     "output_type": "stream",
     "text": [
      "CTR after test started:\n",
      "mean value for group 0:  32.996977569382835 ;\n",
      "mean value for group 1:  37.99695912626142\n"
     ]
    }
   ],
   "source": [
    "after_0 = after.query('groupid == 0')['ctr'].to_numpy().mean()\n",
    "after_1 = after.query('groupid == 1')['ctr'].to_numpy().mean()\n",
    "print('CTR after test started:')\n",
    "print('mean value for group 0: ', after_0,';\\nmean value for group 1: ', after_1)"
   ]
  },
  {
   "cell_type": "code",
   "execution_count": 94,
   "id": "e89c8756-1781-4648-bad9-f03af02bde99",
   "metadata": {
    "hidden": true
   },
   "outputs": [
    {
     "name": "stdout",
     "output_type": "stream",
     "text": [
      "std for CTR after test started:\n",
      "std for group 0:  1.7331985918552912 ;\n",
      "mean value for group 1:  1.7323710606903675\n"
     ]
    }
   ],
   "source": [
    "s_a0 = after.query('groupid == 0')['ctr'].to_numpy().std()\n",
    "s_a1 = after.query('groupid == 1')['ctr'].to_numpy().std()\n",
    "print('std for CTR after test started:')\n",
    "print('std for group 0: ', s_a0,';\\nmean value for group 1: ', s_a1)"
   ]
  },
  {
   "cell_type": "markdown",
   "id": "formal-observation",
   "metadata": {
    "hidden": true
   },
   "source": [
    "#### (4) P-values\n",
    "\n",
    "We regard the test as successful because:\n",
    "* we see a similarity in CTR behaviour (large P-value) before the test started, suggesting little or no pre-test bias\n",
    "\n",
    "* a very low P-value after the test started suggests a difference in behaviour caused by the test. "
   ]
  },
  {
   "cell_type": "code",
   "execution_count": 95,
   "id": "8ed1a047-7d6e-4e68-9540-f9c8819b4c52",
   "metadata": {
    "hidden": true
   },
   "outputs": [
    {
     "name": "stdout",
     "output_type": "stream",
     "text": [
      "The p value for the two groups before the test 0.705741417344299\n"
     ]
    }
   ],
   "source": [
    "res = ttest_ind(before.query('groupid == 0')['ctr'].to_numpy(), before.query('groupid == 1')['ctr']\n",
    "                .to_numpy()).pvalue\n",
    "\n",
    "print('The p value for the two groups before the test' ,res)"
   ]
  },
  {
   "cell_type": "markdown",
   "id": "thrown-check",
   "metadata": {
    "hidden": true
   },
   "source": [
    "It suggests a similarity in CTR behaviour for the two groups before the test"
   ]
  },
  {
   "cell_type": "code",
   "execution_count": 98,
   "id": "c45520bd-6b71-4fee-814d-ce925cad4b8c",
   "metadata": {
    "hidden": true
   },
   "outputs": [
    {
     "name": "stdout",
     "output_type": "stream",
     "text": [
      "The P value after the test is 0.0000000000\n"
     ]
    }
   ],
   "source": [
    "res = ttest_ind(after.query('groupid == 0')['ctr'].to_numpy(), after.query('groupid == 1')['ctr']\n",
    "                .to_numpy()).pvalue\n",
    "print('The P value after the test is', \"{:.10f}\".format(res))"
   ]
  }
 ],
 "metadata": {
  "hide_input": false,
  "kernelspec": {
   "display_name": "Python 3",
   "language": "python",
   "name": "python3"
  },
  "language_info": {
   "codemirror_mode": {
    "name": "ipython",
    "version": 3
   },
   "file_extension": ".py",
   "mimetype": "text/x-python",
   "name": "python",
   "nbconvert_exporter": "python",
   "pygments_lexer": "ipython3",
   "version": "3.9.0"
  }
 },
 "nbformat": 4,
 "nbformat_minor": 5
}
