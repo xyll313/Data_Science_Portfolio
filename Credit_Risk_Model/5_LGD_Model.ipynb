{
 "cells": [
  {
   "cell_type": "markdown",
   "id": "turkish-grade",
   "metadata": {},
   "source": [
    "# LGD Model\n",
    "\n",
    "* LGD (loss given default): the percentrage of the exposure that was lost after the borrower defaulted\n",
    "\n",
    "* LGD = 1 - recovery rate"
   ]
  },
  {
   "cell_type": "code",
   "execution_count": 12,
   "id": "provincial-coach",
   "metadata": {},
   "outputs": [],
   "source": [
    "#import libraries\n",
    "import numpy as np\n",
    "import pandas as pd\n",
    "pd.options.mode.chained_assignment = None\n",
    "\n",
    "import matplotlib.pyplot as plt\n",
    "import seaborn as sns\n",
    "sns.set()\n",
    "\n",
    "from sklearn import linear_model\n",
    "from sklearn.model_selection import train_test_split\n",
    "from sklearn.metrics import roc_curve, roc_auc_score\n",
    "from sklearn.metrics import mean_squared_error, r2_score"
   ]
  },
  {
   "cell_type": "code",
   "execution_count": 2,
   "id": "lucky-degree",
   "metadata": {},
   "outputs": [],
   "source": [
    "#load_data\n",
    "loan_data_inputs_train = pd.read_csv('loan_data_inputs_train.csv', index_col = 0)"
   ]
  },
  {
   "cell_type": "markdown",
   "id": "mineral-express",
   "metadata": {},
   "source": [
    "It's a good practice to build models with data from borrowers that have had enough time to repay part of teh remaining debt. In our data, these are only the accounts that were written-off (*i.e.* their status should be **Charged Off**) "
   ]
  },
  {
   "cell_type": "code",
   "execution_count": 3,
   "id": "detected-inspector",
   "metadata": {},
   "outputs": [],
   "source": [
    "loan_data_defaults = loan_data_inputs_train[loan_data_inputs_train['loan_status'].isin(['Charged Off',\n",
    "                                                                                       'Does not meet the credit policy. Status:Charged Off'])]"
   ]
  },
  {
   "cell_type": "markdown",
   "id": "dangerous-major",
   "metadata": {},
   "source": [
    "## 1. Data Preprocessing\n"
   ]
  },
  {
   "cell_type": "code",
   "execution_count": 20,
   "id": "alike-thirty",
   "metadata": {
    "scrolled": true
   },
   "outputs": [],
   "source": [
    "# deal with missing values\n",
    "loan_data_defaults['mths_since_last_delinq'].fillna(0, inplace = True)\n",
    "loan_data_defaults['mths_since_last_record'].fillna(0, inplace = True)\n",
    "loan_data_defaults['pub_rec'].fillna(0,inplace = True)"
   ]
  },
  {
   "cell_type": "markdown",
   "id": "removed-playback",
   "metadata": {},
   "source": [
    "### 1.1  Dependent Variables\n",
    "We assumed that for defaulted borrwoers, **'funded_amnt'** refelects the total amount that was lost the moment the borrower defaulted\n",
    "\n",
    "* recovery_rate = recoveries/funded_amnt"
   ]
  },
  {
   "cell_type": "code",
   "execution_count": 21,
   "id": "periodic-shock",
   "metadata": {},
   "outputs": [
    {
     "data": {
      "text/plain": [
       "count    34619.000000\n",
       "mean         0.060900\n",
       "std          0.089666\n",
       "min          0.000000\n",
       "25%          0.000000\n",
       "50%          0.029497\n",
       "75%          0.114313\n",
       "max          1.000000\n",
       "Name: recovery_rate, dtype: float64"
      ]
     },
     "execution_count": 21,
     "metadata": {},
     "output_type": "execute_result"
    }
   ],
   "source": [
    "#Dependent Variable for LGD\n",
    "loan_data_defaults['recovery_rate'] = loan_data_defaults['recoveries']/loan_data_defaults['funded_amnt']\n",
    "\n",
    "# set the boundaries for recovery_rate to be between 0 and 1\n",
    "loan_data_defaults['recovery_rate'] = np.where(loan_data_defaults['recovery_rate']>=1,1,loan_data_defaults['recovery_rate'])\n",
    "loan_data_defaults['recovery_rate'] = np.where(loan_data_defaults['recovery_rate']<0,0,loan_data_defaults['recovery_rate'])\n",
    "\n",
    "loan_data_defaults['recovery_rate'].describe()"
   ]
  },
  {
   "cell_type": "code",
   "execution_count": 22,
   "id": "suitable-rainbow",
   "metadata": {},
   "outputs": [
    {
     "data": {
      "text/plain": [
       "(array([1.6847e+04, 1.4730e+03, 3.0850e+03, 1.1100e+03, 1.7160e+03,\n",
       "        2.6120e+03, 3.8310e+03, 1.3930e+03, 9.7000e+02, 3.2700e+02,\n",
       "        2.7300e+02, 2.0800e+02, 9.6000e+01, 7.6000e+01, 6.5000e+01,\n",
       "        6.2000e+01, 4.3000e+01, 5.8000e+01, 4.2000e+01, 2.4000e+01,\n",
       "        3.7000e+01, 2.4000e+01, 1.4000e+01, 1.5000e+01, 1.6000e+01,\n",
       "        1.7000e+01, 1.5000e+01, 4.0000e+00, 1.0000e+01, 5.0000e+00,\n",
       "        5.0000e+00, 6.0000e+00, 6.0000e+00, 7.0000e+00, 7.0000e+00,\n",
       "        8.0000e+00, 5.0000e+00, 9.0000e+00, 7.0000e+00, 8.0000e+00,\n",
       "        3.0000e+00, 2.0000e+00, 5.0000e+00, 2.0000e+00, 7.0000e+00,\n",
       "        7.0000e+00, 1.3000e+01, 8.0000e+00, 8.0000e+00, 2.8000e+01]),\n",
       " array([0.  , 0.02, 0.04, 0.06, 0.08, 0.1 , 0.12, 0.14, 0.16, 0.18, 0.2 ,\n",
       "        0.22, 0.24, 0.26, 0.28, 0.3 , 0.32, 0.34, 0.36, 0.38, 0.4 , 0.42,\n",
       "        0.44, 0.46, 0.48, 0.5 , 0.52, 0.54, 0.56, 0.58, 0.6 , 0.62, 0.64,\n",
       "        0.66, 0.68, 0.7 , 0.72, 0.74, 0.76, 0.78, 0.8 , 0.82, 0.84, 0.86,\n",
       "        0.88, 0.9 , 0.92, 0.94, 0.96, 0.98, 1.  ]),\n",
       " <BarContainer object of 50 artists>)"
      ]
     },
     "execution_count": 22,
     "metadata": {},
     "output_type": "execute_result"
    },
    {
     "data": {
      "image/png": "[encoded data removed]",
      "text/plain": [
       "<Figure size 432x288 with 1 Axes>"
      ]
     },
     "metadata": {},
     "output_type": "display_data"
    }
   ],
   "source": [
    "#visualise the data\n",
    "plt.hist(loan_data_defaults['recovery_rate'],50)"
   ]
  },
  {
   "cell_type": "markdown",
   "id": "higher-improvement",
   "metadata": {},
   "source": [
    "We decided to use a two stage approach for LGD"
   ]
  },
  {
   "cell_type": "code",
   "execution_count": 23,
   "id": "agreed-testing",
   "metadata": {},
   "outputs": [],
   "source": [
    "loan_data_defaults['recovery_rate_0_1'] = np.where(loan_data_defaults['recovery_rate'] == 0,0,1)"
   ]
  },
  {
   "cell_type": "markdown",
   "id": "behavioral-medium",
   "metadata": {},
   "source": [
    "## 1.2 Independent Variables\n",
    "\n",
    "* For **dsicrete variables**, we create as many dummy variables as the number of categories (already done when work with PD model)\n",
    "* For **contineous variables**, we can use them as they are or transform them. There is no need for fine classing or coarse classing"
   ]
  },
  {
   "cell_type": "markdown",
   "id": "french-broadway",
   "metadata": {},
   "source": [
    "# 2. LGD Model"
   ]
  },
  {
   "cell_type": "markdown",
   "id": "sound-consumption",
   "metadata": {},
   "source": [
    "Here we use a two stage approach:\n",
    "* 1. is the recovery rate equal to 0 or greater than 0? \n",
    "    - **Logistic Regression** if recovery rate = 0\n",
    "    - **Linear Regression** to estimate recovery rate if recovery rate =! 0\n",
    "* 2. If recovery rate is greater than 0, how much eaxctly is it?\n",
    "    - Multiple Linear Regression"
   ]
  },
  {
   "cell_type": "markdown",
   "id": "complicated-westminster",
   "metadata": {},
   "source": [
    "#### Train-test Split"
   ]
  },
  {
   "cell_type": "code",
   "execution_count": 24,
   "id": "ethical-venice",
   "metadata": {},
   "outputs": [],
   "source": [
    "lgd_inputs_stage_1_train,lgd_inputs_stage_1_test,lgd_targets_stage_1_train,lgd_targets_stage_1_test = train_test_split(loan_data_defaults.drop(['recovery_rate','recovery_rate_0_1'],axis=1),\n",
    "                                                                                                                      loan_data_defaults['recovery_rate_0_1'],test_size = 0.2,random_state = 42)"
   ]
  },
  {
   "cell_type": "markdown",
   "id": "academic-corporation",
   "metadata": {},
   "source": [
    "#### Preparing the inputs"
   ]
  },
  {
   "cell_type": "code",
   "execution_count": 25,
   "id": "twelve-capacity",
   "metadata": {
    "code_folding": [
     0
    ]
   },
   "outputs": [],
   "source": [
    "#a list of features in consideration\n",
    "features_all = ['grade:A',\n",
    "'grade:B',\n",
    "'grade:C',\n",
    "'grade:D',\n",
    "'grade:E',\n",
    "'grade:F',\n",
    "'grade:G',\n",
    "'home_ownership:MORTGAGE',\n",
    "'home_ownership:NONE',\n",
    "'home_ownership:OTHER',\n",
    "'home_ownership:OWN',\n",
    "'home_ownership:RENT',\n",
    "'verification_status:Not Verified',\n",
    "'verification_status:Source Verified',\n",
    "'verification_status:Verified',\n",
    "'purpose:car',\n",
    "'purpose:credit_card',\n",
    "'purpose:debt_consolidation',\n",
    "'purpose:educational',\n",
    "'purpose:home_improvement',\n",
    "'purpose:house',\n",
    "'purpose:major_purchase',\n",
    "'purpose:medical',\n",
    "'purpose:moving',\n",
    "'purpose:other',\n",
    "'purpose:renewable_energy',\n",
    "'purpose:small_business',\n",
    "'purpose:vacation',\n",
    "'purpose:wedding',\n",
    "'initial_list_status:f',\n",
    "'initial_list_status:w',\n",
    "'term_int',\n",
    "'emp_length_int',\n",
    "'mths_since_issue_d',\n",
    "'mths_since_earliest_cr_line',\n",
    "'funded_amnt',\n",
    "'int_rate',\n",
    "'installment',\n",
    "'annual_inc',\n",
    "'dti',\n",
    "'delinq_2yrs',\n",
    "'inq_last_6mths',\n",
    "'mths_since_last_delinq',\n",
    "'mths_since_last_record',\n",
    "'open_acc',\n",
    "'pub_rec',\n",
    "'total_acc',\n",
    "'acc_now_delinq',\n",
    "'total_rev_hi_lim']"
   ]
  },
  {
   "cell_type": "code",
   "execution_count": 26,
   "id": "proprietary-wright",
   "metadata": {},
   "outputs": [],
   "source": [
    "# list of reference categories\n",
    "features_reference_cat = ['grade:G', 'home_ownership:RENT', 'verification_status:Verified','purpose:credit_card','initial_list_status:f']"
   ]
  },
  {
   "cell_type": "markdown",
   "id": "thrown-boost",
   "metadata": {},
   "source": [
    "###  LGD Stage 1: Logistic Regression"
   ]
  },
  {
   "cell_type": "code",
   "execution_count": 27,
   "id": "likely-entrepreneur",
   "metadata": {},
   "outputs": [],
   "source": [
    "#drop reference categories from training data\n",
    "lgd_inputs_stage_1_train = lgd_inputs_stage_1_train[features_all].drop(features_reference_cat,axis = 1)"
   ]
  },
  {
   "cell_type": "code",
   "execution_count": 28,
   "id": "outside-chester",
   "metadata": {},
   "outputs": [
    {
     "data": {
      "text/plain": [
       "LogisticRegression(max_iter=1000)"
      ]
     },
     "execution_count": 28,
     "metadata": {},
     "output_type": "execute_result"
    }
   ],
   "source": [
    "#Build logistic regression model based on training data\n",
    "reg_lgd_st_1 = linear_model.LogisticRegression(solver = 'lbfgs', max_iter = 1000)\n",
    "reg_lgd_st_1.fit(lgd_inputs_stage_1_train,lgd_targets_stage_1_train)"
   ]
  },
  {
   "cell_type": "code",
   "execution_count": 29,
   "id": "certain-element",
   "metadata": {
    "scrolled": true
   },
   "outputs": [
    {
     "data": {
      "text/html": [
       "<div>\n",
       "<style scoped>\n",
       "    .dataframe tbody tr th:only-of-type {\n",
       "        vertical-align: middle;\n",
       "    }\n",
       "\n",
       "    .dataframe tbody tr th {\n",
       "        vertical-align: top;\n",
       "    }\n",
       "\n",
       "    .dataframe thead th {\n",
       "        text-align: right;\n",
       "    }\n",
       "</style>\n",
       "<table border=\"1\" class=\"dataframe\">\n",
       "  <thead>\n",
       "    <tr style=\"text-align: right;\">\n",
       "      <th></th>\n",
       "      <th>Feature name</th>\n",
       "      <th>Coefficients</th>\n",
       "    </tr>\n",
       "  </thead>\n",
       "  <tbody>\n",
       "    <tr>\n",
       "      <th>0</th>\n",
       "      <td>Intercept</td>\n",
       "      <td>-3.770906e-04</td>\n",
       "    </tr>\n",
       "    <tr>\n",
       "      <th>1</th>\n",
       "      <td>grade:A</td>\n",
       "      <td>-6.945943e-05</td>\n",
       "    </tr>\n",
       "    <tr>\n",
       "      <th>2</th>\n",
       "      <td>grade:B</td>\n",
       "      <td>-2.309679e-04</td>\n",
       "    </tr>\n",
       "    <tr>\n",
       "      <th>3</th>\n",
       "      <td>grade:C</td>\n",
       "      <td>-3.311314e-04</td>\n",
       "    </tr>\n",
       "    <tr>\n",
       "      <th>4</th>\n",
       "      <td>grade:D</td>\n",
       "      <td>-5.780993e-05</td>\n",
       "    </tr>\n",
       "    <tr>\n",
       "      <th>5</th>\n",
       "      <td>grade:E</td>\n",
       "      <td>8.513562e-05</td>\n",
       "    </tr>\n",
       "    <tr>\n",
       "      <th>6</th>\n",
       "      <td>grade:F</td>\n",
       "      <td>1.990103e-04</td>\n",
       "    </tr>\n",
       "    <tr>\n",
       "      <th>7</th>\n",
       "      <td>home_ownership:MORTGAGE</td>\n",
       "      <td>-1.702751e-04</td>\n",
       "    </tr>\n",
       "    <tr>\n",
       "      <th>8</th>\n",
       "      <td>home_ownership:NONE</td>\n",
       "      <td>1.172823e-06</td>\n",
       "    </tr>\n",
       "    <tr>\n",
       "      <th>9</th>\n",
       "      <td>home_ownership:OTHER</td>\n",
       "      <td>8.056388e-08</td>\n",
       "    </tr>\n",
       "    <tr>\n",
       "      <th>10</th>\n",
       "      <td>home_ownership:OWN</td>\n",
       "      <td>3.950088e-05</td>\n",
       "    </tr>\n",
       "    <tr>\n",
       "      <th>11</th>\n",
       "      <td>verification_status:Not Verified</td>\n",
       "      <td>-3.758688e-04</td>\n",
       "    </tr>\n",
       "    <tr>\n",
       "      <th>12</th>\n",
       "      <td>verification_status:Source Verified</td>\n",
       "      <td>-4.553982e-04</td>\n",
       "    </tr>\n",
       "    <tr>\n",
       "      <th>13</th>\n",
       "      <td>purpose:car</td>\n",
       "      <td>3.203487e-05</td>\n",
       "    </tr>\n",
       "    <tr>\n",
       "      <th>14</th>\n",
       "      <td>purpose:debt_consolidation</td>\n",
       "      <td>-4.258070e-04</td>\n",
       "    </tr>\n",
       "    <tr>\n",
       "      <th>15</th>\n",
       "      <td>purpose:educational</td>\n",
       "      <td>2.929397e-06</td>\n",
       "    </tr>\n",
       "    <tr>\n",
       "      <th>16</th>\n",
       "      <td>purpose:home_improvement</td>\n",
       "      <td>3.957891e-05</td>\n",
       "    </tr>\n",
       "    <tr>\n",
       "      <th>17</th>\n",
       "      <td>purpose:house</td>\n",
       "      <td>2.303443e-05</td>\n",
       "    </tr>\n",
       "    <tr>\n",
       "      <th>18</th>\n",
       "      <td>purpose:major_purchase</td>\n",
       "      <td>2.107526e-05</td>\n",
       "    </tr>\n",
       "    <tr>\n",
       "      <th>19</th>\n",
       "      <td>purpose:medical</td>\n",
       "      <td>-2.421633e-06</td>\n",
       "    </tr>\n",
       "    <tr>\n",
       "      <th>20</th>\n",
       "      <td>purpose:moving</td>\n",
       "      <td>-1.245561e-06</td>\n",
       "    </tr>\n",
       "    <tr>\n",
       "      <th>21</th>\n",
       "      <td>purpose:other</td>\n",
       "      <td>8.803007e-05</td>\n",
       "    </tr>\n",
       "    <tr>\n",
       "      <th>22</th>\n",
       "      <td>purpose:renewable_energy</td>\n",
       "      <td>2.806865e-06</td>\n",
       "    </tr>\n",
       "    <tr>\n",
       "      <th>23</th>\n",
       "      <td>purpose:small_business</td>\n",
       "      <td>1.340454e-04</td>\n",
       "    </tr>\n",
       "    <tr>\n",
       "      <th>24</th>\n",
       "      <td>purpose:vacation</td>\n",
       "      <td>1.708912e-05</td>\n",
       "    </tr>\n",
       "    <tr>\n",
       "      <th>25</th>\n",
       "      <td>purpose:wedding</td>\n",
       "      <td>1.682056e-05</td>\n",
       "    </tr>\n",
       "    <tr>\n",
       "      <th>26</th>\n",
       "      <td>initial_list_status:w</td>\n",
       "      <td>-2.031654e-03</td>\n",
       "    </tr>\n",
       "    <tr>\n",
       "      <th>27</th>\n",
       "      <td>term_int</td>\n",
       "      <td>-9.844467e-03</td>\n",
       "    </tr>\n",
       "    <tr>\n",
       "      <th>28</th>\n",
       "      <td>emp_length_int</td>\n",
       "      <td>-1.777528e-03</td>\n",
       "    </tr>\n",
       "    <tr>\n",
       "      <th>29</th>\n",
       "      <td>mths_since_issue_d</td>\n",
       "      <td>2.547244e-02</td>\n",
       "    </tr>\n",
       "    <tr>\n",
       "      <th>30</th>\n",
       "      <td>mths_since_earliest_cr_line</td>\n",
       "      <td>-1.263771e-03</td>\n",
       "    </tr>\n",
       "    <tr>\n",
       "      <th>31</th>\n",
       "      <td>funded_amnt</td>\n",
       "      <td>5.136564e-05</td>\n",
       "    </tr>\n",
       "    <tr>\n",
       "      <th>32</th>\n",
       "      <td>int_rate</td>\n",
       "      <td>-6.446840e-04</td>\n",
       "    </tr>\n",
       "    <tr>\n",
       "      <th>33</th>\n",
       "      <td>installment</td>\n",
       "      <td>-1.097485e-03</td>\n",
       "    </tr>\n",
       "    <tr>\n",
       "      <th>34</th>\n",
       "      <td>annual_inc</td>\n",
       "      <td>7.482684e-07</td>\n",
       "    </tr>\n",
       "    <tr>\n",
       "      <th>35</th>\n",
       "      <td>dti</td>\n",
       "      <td>-1.440016e-02</td>\n",
       "    </tr>\n",
       "    <tr>\n",
       "      <th>36</th>\n",
       "      <td>delinq_2yrs</td>\n",
       "      <td>-9.676286e-06</td>\n",
       "    </tr>\n",
       "    <tr>\n",
       "      <th>37</th>\n",
       "      <td>inq_last_6mths</td>\n",
       "      <td>1.892351e-04</td>\n",
       "    </tr>\n",
       "    <tr>\n",
       "      <th>38</th>\n",
       "      <td>mths_since_last_delinq</td>\n",
       "      <td>-6.869966e-04</td>\n",
       "    </tr>\n",
       "    <tr>\n",
       "      <th>39</th>\n",
       "      <td>mths_since_last_record</td>\n",
       "      <td>-3.678317e-03</td>\n",
       "    </tr>\n",
       "    <tr>\n",
       "      <th>40</th>\n",
       "      <td>open_acc</td>\n",
       "      <td>-5.723463e-03</td>\n",
       "    </tr>\n",
       "    <tr>\n",
       "      <th>41</th>\n",
       "      <td>pub_rec</td>\n",
       "      <td>-6.332591e-05</td>\n",
       "    </tr>\n",
       "    <tr>\n",
       "      <th>42</th>\n",
       "      <td>total_acc</td>\n",
       "      <td>-1.206206e-02</td>\n",
       "    </tr>\n",
       "    <tr>\n",
       "      <th>43</th>\n",
       "      <td>acc_now_delinq</td>\n",
       "      <td>9.290641e-06</td>\n",
       "    </tr>\n",
       "    <tr>\n",
       "      <th>44</th>\n",
       "      <td>total_rev_hi_lim</td>\n",
       "      <td>-9.555029e-07</td>\n",
       "    </tr>\n",
       "  </tbody>\n",
       "</table>\n",
       "</div>"
      ],
      "text/plain": [
       "                           Feature name  Coefficients\n",
       "0                             Intercept -3.770906e-04\n",
       "1                               grade:A -6.945943e-05\n",
       "2                               grade:B -2.309679e-04\n",
       "3                               grade:C -3.311314e-04\n",
       "4                               grade:D -5.780993e-05\n",
       "5                               grade:E  8.513562e-05\n",
       "6                               grade:F  1.990103e-04\n",
       "7               home_ownership:MORTGAGE -1.702751e-04\n",
       "8                   home_ownership:NONE  1.172823e-06\n",
       "9                  home_ownership:OTHER  8.056388e-08\n",
       "10                   home_ownership:OWN  3.950088e-05\n",
       "11     verification_status:Not Verified -3.758688e-04\n",
       "12  verification_status:Source Verified -4.553982e-04\n",
       "13                          purpose:car  3.203487e-05\n",
       "14           purpose:debt_consolidation -4.258070e-04\n",
       "15                  purpose:educational  2.929397e-06\n",
       "16             purpose:home_improvement  3.957891e-05\n",
       "17                        purpose:house  2.303443e-05\n",
       "18               purpose:major_purchase  2.107526e-05\n",
       "19                      purpose:medical -2.421633e-06\n",
       "20                       purpose:moving -1.245561e-06\n",
       "21                        purpose:other  8.803007e-05\n",
       "22             purpose:renewable_energy  2.806865e-06\n",
       "23               purpose:small_business  1.340454e-04\n",
       "24                     purpose:vacation  1.708912e-05\n",
       "25                      purpose:wedding  1.682056e-05\n",
       "26                initial_list_status:w -2.031654e-03\n",
       "27                             term_int -9.844467e-03\n",
       "28                       emp_length_int -1.777528e-03\n",
       "29                   mths_since_issue_d  2.547244e-02\n",
       "30          mths_since_earliest_cr_line -1.263771e-03\n",
       "31                          funded_amnt  5.136564e-05\n",
       "32                             int_rate -6.446840e-04\n",
       "33                          installment -1.097485e-03\n",
       "34                           annual_inc  7.482684e-07\n",
       "35                                  dti -1.440016e-02\n",
       "36                          delinq_2yrs -9.676286e-06\n",
       "37                       inq_last_6mths  1.892351e-04\n",
       "38               mths_since_last_delinq -6.869966e-04\n",
       "39               mths_since_last_record -3.678317e-03\n",
       "40                             open_acc -5.723463e-03\n",
       "41                              pub_rec -6.332591e-05\n",
       "42                            total_acc -1.206206e-02\n",
       "43                       acc_now_delinq  9.290641e-06\n",
       "44                     total_rev_hi_lim -9.555029e-07"
      ]
     },
     "execution_count": 29,
     "metadata": {},
     "output_type": "execute_result"
    }
   ],
   "source": [
    "#create summary table\n",
    "feature_name = lgd_inputs_stage_1_train.columns.values\n",
    "summary_table = pd.DataFrame(columns = ['Feature name'],data = feature_name)\n",
    "summary_table['Coefficients'] = np.transpose(reg_lgd_st_1.coef_)\n",
    "summary_table.index = summary_table.index+1\n",
    "summary_table.loc[0] = ['Intercept',reg_lgd_st_1.intercept_]\n",
    "summary_table = summary_table.sort_index()\n",
    "summary_table"
   ]
  },
  {
   "cell_type": "markdown",
   "id": "hollow-virgin",
   "metadata": {},
   "source": [
    "Coefficients for continuous variabls reflect the change in log-odds that results from a unit change in the property the continuous variable measures\n",
    "\n",
    "### Test Logistic Regression Model\n",
    "Use test set to check model accuracy. We calculate ROC and AUROC"
   ]
  },
  {
   "cell_type": "code",
   "execution_count": 30,
   "id": "tired-column",
   "metadata": {},
   "outputs": [],
   "source": [
    "#pre-processing\n",
    "#test dataset: drop reference categories from features\n",
    "lgd_inputs_stage_1_test = lgd_inputs_stage_1_test[features_all]\n",
    "lgd_inputs_stage_1_test = lgd_inputs_stage_1_test.drop(features_reference_cat,axis = 1)"
   ]
  },
  {
   "cell_type": "code",
   "execution_count": 35,
   "id": "sized-china",
   "metadata": {},
   "outputs": [
    {
     "data": {
      "text/plain": [
       "array([0.66280069, 0.47812771, 0.60622538, ..., 0.60045145, 0.55998137,\n",
       "       0.36819779])"
      ]
     },
     "execution_count": 35,
     "metadata": {},
     "output_type": "execute_result"
    }
   ],
   "source": [
    "#use reg_lgd_st_1 to predict y_hat_test and y_hat_test_proba\n",
    "y_hat_test_lgd_stage_1 = reg_lgd_st_1.predict(lgd_inputs_stage_1_test)\n",
    "y_hat_test_proba_lgd_stage_1  = reg_lgd_st_1.predict_proba(lgd_inputs_stage_1_test)\n",
    "#take only the probabilities\n",
    "y_hat_test_proba_lgd_stage_1 = y_hat_test_proba_lgd_stage_1[:][:,1]\n",
    "y_hat_test_proba_lgd_stage_1"
   ]
  },
  {
   "cell_type": "code",
   "execution_count": 36,
   "id": "powered-politics",
   "metadata": {},
   "outputs": [
    {
     "data": {
      "text/html": [
       "<div>\n",
       "<style scoped>\n",
       "    .dataframe tbody tr th:only-of-type {\n",
       "        vertical-align: middle;\n",
       "    }\n",
       "\n",
       "    .dataframe tbody tr th {\n",
       "        vertical-align: top;\n",
       "    }\n",
       "\n",
       "    .dataframe thead th {\n",
       "        text-align: right;\n",
       "    }\n",
       "</style>\n",
       "<table border=\"1\" class=\"dataframe\">\n",
       "  <thead>\n",
       "    <tr style=\"text-align: right;\">\n",
       "      <th></th>\n",
       "      <th>lgd_targets_stage_1_test</th>\n",
       "      <th>y_hat_test_proba_lgd_stage_1</th>\n",
       "    </tr>\n",
       "  </thead>\n",
       "  <tbody>\n",
       "    <tr>\n",
       "      <th>14352</th>\n",
       "      <td>1</td>\n",
       "      <td>0.662801</td>\n",
       "    </tr>\n",
       "    <tr>\n",
       "      <th>447209</th>\n",
       "      <td>0</td>\n",
       "      <td>0.478128</td>\n",
       "    </tr>\n",
       "    <tr>\n",
       "      <th>127834</th>\n",
       "      <td>1</td>\n",
       "      <td>0.606225</td>\n",
       "    </tr>\n",
       "    <tr>\n",
       "      <th>16455</th>\n",
       "      <td>1</td>\n",
       "      <td>0.763405</td>\n",
       "    </tr>\n",
       "    <tr>\n",
       "      <th>170733</th>\n",
       "      <td>1</td>\n",
       "      <td>0.509874</td>\n",
       "    </tr>\n",
       "  </tbody>\n",
       "</table>\n",
       "</div>"
      ],
      "text/plain": [
       "        lgd_targets_stage_1_test  y_hat_test_proba_lgd_stage_1\n",
       "14352                          1                      0.662801\n",
       "447209                         0                      0.478128\n",
       "127834                         1                      0.606225\n",
       "16455                          1                      0.763405\n",
       "170733                         1                      0.509874"
      ]
     },
     "execution_count": 36,
     "metadata": {},
     "output_type": "execute_result"
    }
   ],
   "source": [
    "#list predicted results and test_proba\n",
    "lgd_targets_stage_1_test_temp = lgd_targets_stage_1_test\n",
    "lgd_targets_stage_1_test_temp.reset_index(drop = True, inplace = True)\n",
    "df_actual_predicted_probs = pd.concat([lgd_targets_stage_1_test_temp, pd.DataFrame(y_hat_test_proba_lgd_stage_1)],axis =1)\n",
    "df_actual_predicted_probs.columns = ['lgd_targets_stage_1_test', 'y_hat_test_proba_lgd_stage_1']\n",
    "df_actual_predicted_probs.index = lgd_inputs_stage_1_test.index\n",
    "df_actual_predicted_probs.head()"
   ]
  },
  {
   "cell_type": "code",
   "execution_count": 37,
   "id": "settled-munich",
   "metadata": {},
   "outputs": [
    {
     "data": {
      "text/html": [
       "<div>\n",
       "<style scoped>\n",
       "    .dataframe tbody tr th:only-of-type {\n",
       "        vertical-align: middle;\n",
       "    }\n",
       "\n",
       "    .dataframe tbody tr th {\n",
       "        vertical-align: top;\n",
       "    }\n",
       "\n",
       "    .dataframe thead th {\n",
       "        text-align: right;\n",
       "    }\n",
       "</style>\n",
       "<table border=\"1\" class=\"dataframe\">\n",
       "  <thead>\n",
       "    <tr style=\"text-align: right;\">\n",
       "      <th>Predicted</th>\n",
       "      <th>0</th>\n",
       "      <th>1</th>\n",
       "    </tr>\n",
       "    <tr>\n",
       "      <th>Actual</th>\n",
       "      <th></th>\n",
       "      <th></th>\n",
       "    </tr>\n",
       "  </thead>\n",
       "  <tbody>\n",
       "    <tr>\n",
       "      <th>0</th>\n",
       "      <td>0.175910</td>\n",
       "      <td>0.271953</td>\n",
       "    </tr>\n",
       "    <tr>\n",
       "      <th>1</th>\n",
       "      <td>0.111496</td>\n",
       "      <td>0.440641</td>\n",
       "    </tr>\n",
       "  </tbody>\n",
       "</table>\n",
       "</div>"
      ],
      "text/plain": [
       "Predicted         0         1\n",
       "Actual                       \n",
       "0          0.175910  0.271953\n",
       "1          0.111496  0.440641"
      ]
     },
     "execution_count": 37,
     "metadata": {},
     "output_type": "execute_result"
    }
   ],
   "source": [
    "#Estimate accuracy with tr = 0.5\n",
    "tr = 0.5\n",
    "df_actual_predicted_probs['y_hat_test_lgd_stage_1'] = np.where(df_actual_predicted_probs['y_hat_test_proba_lgd_stage_1']> tr,1,0)\n",
    "pd.crosstab(df_actual_predicted_probs['lgd_targets_stage_1_test'],\n",
    "            df_actual_predicted_probs['y_hat_test_lgd_stage_1'],\n",
    "            rownames = ['Actual'],colnames = ['Predicted'])/df_actual_predicted_probs.shape[0]"
   ]
  },
  {
   "cell_type": "markdown",
   "id": "occasional-supplement",
   "metadata": {},
   "source": [
    "we see an accurancy at 0.6 according to the confusion matrix above"
   ]
  },
  {
   "cell_type": "code",
   "execution_count": 38,
   "id": "statutory-milwaukee",
   "metadata": {},
   "outputs": [
    {
     "data": {
      "text/plain": [
       "Text(0.5, 1.0, 'ROC curve')"
      ]
     },
     "execution_count": 38,
     "metadata": {},
     "output_type": "execute_result"
    },
    {
     "data": {
      "image/png": "[encoded data removed]",
      "text/plain": [
       "<Figure size 432x288 with 1 Axes>"
      ]
     },
     "metadata": {},
     "output_type": "display_data"
    }
   ],
   "source": [
    "# ROC Curve and AuROC\n",
    "from sklearn.metrics import roc_curve, roc_auc_score\n",
    "fpr,tpr,thresholds = roc_curve(df_actual_predicted_probs['lgd_targets_stage_1_test'],df_actual_predicted_probs['y_hat_test_proba_lgd_stage_1'])\n",
    "plt.plot(fpr,tpr)\n",
    "plt.plot(fpr,fpr,linestyle = '--', color = 'k')\n",
    "plt.xlabel('False positive rate')\n",
    "plt.ylabel('True positive rate')\n",
    "plt.title('ROC curve')"
   ]
  },
  {
   "cell_type": "code",
   "execution_count": 39,
   "id": "advance-colorado",
   "metadata": {},
   "outputs": [
    {
     "data": {
      "text/plain": [
       "0.6622000463428341"
      ]
     },
     "execution_count": 39,
     "metadata": {},
     "output_type": "execute_result"
    }
   ],
   "source": [
    "AUROC = roc_auc_score(df_actual_predicted_probs['lgd_targets_stage_1_test'],df_actual_predicted_probs['y_hat_test_proba_lgd_stage_1'])\n",
    "AUROC"
   ]
  },
  {
   "cell_type": "markdown",
   "id": "restricted-elite",
   "metadata": {},
   "source": [
    "Since we use logistic regression as a first stage to model LGD, it's important to have a large proportion of correctly classified values that are greater than 0, than to have correctly classified 0s\n",
    "\n",
    "This is becuase during the 2nd stage model some values here classified as > 0 may still be estimated to be =0, hence correst the current misclassifictaion"
   ]
  },
  {
   "cell_type": "code",
   "execution_count": null,
   "id": "thick-portland",
   "metadata": {},
   "outputs": [],
   "source": [
    "#save the model\n",
    "import pickle\n",
    "picke.dump(reg_lgd_st_1,open('lgd_model_stage_1.sav','wb'))"
   ]
  },
  {
   "cell_type": "markdown",
   "id": "prerequisite-geometry",
   "metadata": {},
   "source": [
    "## Stage2 - linear regression"
   ]
  },
  {
   "cell_type": "code",
   "execution_count": 40,
   "id": "organizational-appreciation",
   "metadata": {},
   "outputs": [],
   "source": [
    "# chose a sub-group from  loan_data_defaults where 'recovery_rate_0_1' tis 1\n",
    "lgd_stage_2_data = loan_data_defaults[loan_data_defaults['recovery_rate_0_1']==1]"
   ]
  },
  {
   "cell_type": "code",
   "execution_count": 45,
   "id": "distinct-century",
   "metadata": {},
   "outputs": [],
   "source": [
    "# train test split\n",
    "lgd_inputs_stage2_train,lgd_inputs_stage_2_test,lgd_targets_stage_2_train,lgd_targets_stage2_test = train_test_split(lgd_stage_2_data.drop(['recovery_rate','recovery_rate_0_1'],axis=1),\n",
    "                                                                    lgd_stage_2_data['recovery_rate'],test_size = 0.2,random_state = 42)"
   ]
  },
  {
   "cell_type": "code",
   "execution_count": 46,
   "id": "compound-default",
   "metadata": {},
   "outputs": [],
   "source": [
    "# prepare traing data\n",
    "lgd_inputs_stage_2_train = lgd_inputs_stage2_train[features_all].drop(features_reference_cat,axis =1)"
   ]
  },
  {
   "cell_type": "code",
   "execution_count": 47,
   "id": "impossible-distribution",
   "metadata": {},
   "outputs": [
    {
     "data": {
      "text/plain": [
       "LinearRegression()"
      ]
     },
     "execution_count": 47,
     "metadata": {},
     "output_type": "execute_result"
    }
   ],
   "source": [
    "# train the linear regression model\n",
    "reg_lgd_st_2 = linear_model.LinearRegression()\n",
    "reg_lgd_st_2.fit(lgd_inputs_stage_2_train,lgd_targets_stage_2_train)"
   ]
  },
  {
   "cell_type": "code",
   "execution_count": 48,
   "id": "committed-consent",
   "metadata": {
    "scrolled": true
   },
   "outputs": [
    {
     "data": {
      "text/html": [
       "<div>\n",
       "<style scoped>\n",
       "    .dataframe tbody tr th:only-of-type {\n",
       "        vertical-align: middle;\n",
       "    }\n",
       "\n",
       "    .dataframe tbody tr th {\n",
       "        vertical-align: top;\n",
       "    }\n",
       "\n",
       "    .dataframe thead th {\n",
       "        text-align: right;\n",
       "    }\n",
       "</style>\n",
       "<table border=\"1\" class=\"dataframe\">\n",
       "  <thead>\n",
       "    <tr style=\"text-align: right;\">\n",
       "      <th></th>\n",
       "      <th>Feature name</th>\n",
       "      <th>Coefficients</th>\n",
       "    </tr>\n",
       "  </thead>\n",
       "  <tbody>\n",
       "    <tr>\n",
       "      <th>0</th>\n",
       "      <td>Intercept</td>\n",
       "      <td>2.447859e-01</td>\n",
       "    </tr>\n",
       "    <tr>\n",
       "      <th>1</th>\n",
       "      <td>grade:A</td>\n",
       "      <td>-7.093375e-02</td>\n",
       "    </tr>\n",
       "    <tr>\n",
       "      <th>2</th>\n",
       "      <td>grade:B</td>\n",
       "      <td>-5.271342e-02</td>\n",
       "    </tr>\n",
       "    <tr>\n",
       "      <th>3</th>\n",
       "      <td>grade:C</td>\n",
       "      <td>-3.873294e-02</td>\n",
       "    </tr>\n",
       "    <tr>\n",
       "      <th>4</th>\n",
       "      <td>grade:D</td>\n",
       "      <td>-3.064719e-02</td>\n",
       "    </tr>\n",
       "    <tr>\n",
       "      <th>5</th>\n",
       "      <td>grade:E</td>\n",
       "      <td>-1.512458e-02</td>\n",
       "    </tr>\n",
       "    <tr>\n",
       "      <th>6</th>\n",
       "      <td>grade:F</td>\n",
       "      <td>-2.084199e-03</td>\n",
       "    </tr>\n",
       "    <tr>\n",
       "      <th>7</th>\n",
       "      <td>home_ownership:MORTGAGE</td>\n",
       "      <td>2.399904e-03</td>\n",
       "    </tr>\n",
       "    <tr>\n",
       "      <th>8</th>\n",
       "      <td>home_ownership:NONE</td>\n",
       "      <td>2.145625e-01</td>\n",
       "    </tr>\n",
       "    <tr>\n",
       "      <th>9</th>\n",
       "      <td>home_ownership:OTHER</td>\n",
       "      <td>5.044740e-03</td>\n",
       "    </tr>\n",
       "    <tr>\n",
       "      <th>10</th>\n",
       "      <td>home_ownership:OWN</td>\n",
       "      <td>6.682441e-03</td>\n",
       "    </tr>\n",
       "    <tr>\n",
       "      <th>11</th>\n",
       "      <td>verification_status:Not Verified</td>\n",
       "      <td>3.527076e-03</td>\n",
       "    </tr>\n",
       "    <tr>\n",
       "      <th>12</th>\n",
       "      <td>verification_status:Source Verified</td>\n",
       "      <td>-2.576905e-03</td>\n",
       "    </tr>\n",
       "    <tr>\n",
       "      <th>13</th>\n",
       "      <td>purpose:car</td>\n",
       "      <td>-6.987622e-04</td>\n",
       "    </tr>\n",
       "    <tr>\n",
       "      <th>14</th>\n",
       "      <td>purpose:debt_consolidation</td>\n",
       "      <td>2.715383e-04</td>\n",
       "    </tr>\n",
       "    <tr>\n",
       "      <th>15</th>\n",
       "      <td>purpose:educational</td>\n",
       "      <td>2.736648e-02</td>\n",
       "    </tr>\n",
       "    <tr>\n",
       "      <th>16</th>\n",
       "      <td>purpose:home_improvement</td>\n",
       "      <td>-1.168599e-03</td>\n",
       "    </tr>\n",
       "    <tr>\n",
       "      <th>17</th>\n",
       "      <td>purpose:house</td>\n",
       "      <td>2.155518e-03</td>\n",
       "    </tr>\n",
       "    <tr>\n",
       "      <th>18</th>\n",
       "      <td>purpose:major_purchase</td>\n",
       "      <td>4.743953e-04</td>\n",
       "    </tr>\n",
       "    <tr>\n",
       "      <th>19</th>\n",
       "      <td>purpose:medical</td>\n",
       "      <td>7.206984e-03</td>\n",
       "    </tr>\n",
       "    <tr>\n",
       "      <th>20</th>\n",
       "      <td>purpose:moving</td>\n",
       "      <td>1.504906e-02</td>\n",
       "    </tr>\n",
       "    <tr>\n",
       "      <th>21</th>\n",
       "      <td>purpose:other</td>\n",
       "      <td>6.867722e-03</td>\n",
       "    </tr>\n",
       "    <tr>\n",
       "      <th>22</th>\n",
       "      <td>purpose:renewable_energy</td>\n",
       "      <td>1.295330e-02</td>\n",
       "    </tr>\n",
       "    <tr>\n",
       "      <th>23</th>\n",
       "      <td>purpose:small_business</td>\n",
       "      <td>3.785554e-03</td>\n",
       "    </tr>\n",
       "    <tr>\n",
       "      <th>24</th>\n",
       "      <td>purpose:vacation</td>\n",
       "      <td>6.650677e-03</td>\n",
       "    </tr>\n",
       "    <tr>\n",
       "      <th>25</th>\n",
       "      <td>purpose:wedding</td>\n",
       "      <td>2.371631e-02</td>\n",
       "    </tr>\n",
       "    <tr>\n",
       "      <th>26</th>\n",
       "      <td>initial_list_status:w</td>\n",
       "      <td>1.422135e-02</td>\n",
       "    </tr>\n",
       "    <tr>\n",
       "      <th>27</th>\n",
       "      <td>term_int</td>\n",
       "      <td>2.217575e-04</td>\n",
       "    </tr>\n",
       "    <tr>\n",
       "      <th>28</th>\n",
       "      <td>emp_length_int</td>\n",
       "      <td>1.420369e-04</td>\n",
       "    </tr>\n",
       "    <tr>\n",
       "      <th>29</th>\n",
       "      <td>mths_since_issue_d</td>\n",
       "      <td>-1.536290e-03</td>\n",
       "    </tr>\n",
       "    <tr>\n",
       "      <th>30</th>\n",
       "      <td>mths_since_earliest_cr_line</td>\n",
       "      <td>3.265621e-05</td>\n",
       "    </tr>\n",
       "    <tr>\n",
       "      <th>31</th>\n",
       "      <td>funded_amnt</td>\n",
       "      <td>1.552048e-07</td>\n",
       "    </tr>\n",
       "    <tr>\n",
       "      <th>32</th>\n",
       "      <td>int_rate</td>\n",
       "      <td>-2.493444e-03</td>\n",
       "    </tr>\n",
       "    <tr>\n",
       "      <th>33</th>\n",
       "      <td>installment</td>\n",
       "      <td>-2.182289e-05</td>\n",
       "    </tr>\n",
       "    <tr>\n",
       "      <th>34</th>\n",
       "      <td>annual_inc</td>\n",
       "      <td>6.514381e-08</td>\n",
       "    </tr>\n",
       "    <tr>\n",
       "      <th>35</th>\n",
       "      <td>dti</td>\n",
       "      <td>1.816324e-04</td>\n",
       "    </tr>\n",
       "    <tr>\n",
       "      <th>36</th>\n",
       "      <td>delinq_2yrs</td>\n",
       "      <td>1.214293e-03</td>\n",
       "    </tr>\n",
       "    <tr>\n",
       "      <th>37</th>\n",
       "      <td>inq_last_6mths</td>\n",
       "      <td>1.158903e-03</td>\n",
       "    </tr>\n",
       "    <tr>\n",
       "      <th>38</th>\n",
       "      <td>mths_since_last_delinq</td>\n",
       "      <td>-1.410971e-06</td>\n",
       "    </tr>\n",
       "    <tr>\n",
       "      <th>39</th>\n",
       "      <td>mths_since_last_record</td>\n",
       "      <td>-4.537687e-05</td>\n",
       "    </tr>\n",
       "    <tr>\n",
       "      <th>40</th>\n",
       "      <td>open_acc</td>\n",
       "      <td>-9.828563e-04</td>\n",
       "    </tr>\n",
       "    <tr>\n",
       "      <th>41</th>\n",
       "      <td>pub_rec</td>\n",
       "      <td>1.366757e-03</td>\n",
       "    </tr>\n",
       "    <tr>\n",
       "      <th>42</th>\n",
       "      <td>total_acc</td>\n",
       "      <td>3.927187e-04</td>\n",
       "    </tr>\n",
       "    <tr>\n",
       "      <th>43</th>\n",
       "      <td>acc_now_delinq</td>\n",
       "      <td>-1.124233e-02</td>\n",
       "    </tr>\n",
       "    <tr>\n",
       "      <th>44</th>\n",
       "      <td>total_rev_hi_lim</td>\n",
       "      <td>3.019928e-07</td>\n",
       "    </tr>\n",
       "  </tbody>\n",
       "</table>\n",
       "</div>"
      ],
      "text/plain": [
       "                           Feature name  Coefficients\n",
       "0                             Intercept  2.447859e-01\n",
       "1                               grade:A -7.093375e-02\n",
       "2                               grade:B -5.271342e-02\n",
       "3                               grade:C -3.873294e-02\n",
       "4                               grade:D -3.064719e-02\n",
       "5                               grade:E -1.512458e-02\n",
       "6                               grade:F -2.084199e-03\n",
       "7               home_ownership:MORTGAGE  2.399904e-03\n",
       "8                   home_ownership:NONE  2.145625e-01\n",
       "9                  home_ownership:OTHER  5.044740e-03\n",
       "10                   home_ownership:OWN  6.682441e-03\n",
       "11     verification_status:Not Verified  3.527076e-03\n",
       "12  verification_status:Source Verified -2.576905e-03\n",
       "13                          purpose:car -6.987622e-04\n",
       "14           purpose:debt_consolidation  2.715383e-04\n",
       "15                  purpose:educational  2.736648e-02\n",
       "16             purpose:home_improvement -1.168599e-03\n",
       "17                        purpose:house  2.155518e-03\n",
       "18               purpose:major_purchase  4.743953e-04\n",
       "19                      purpose:medical  7.206984e-03\n",
       "20                       purpose:moving  1.504906e-02\n",
       "21                        purpose:other  6.867722e-03\n",
       "22             purpose:renewable_energy  1.295330e-02\n",
       "23               purpose:small_business  3.785554e-03\n",
       "24                     purpose:vacation  6.650677e-03\n",
       "25                      purpose:wedding  2.371631e-02\n",
       "26                initial_list_status:w  1.422135e-02\n",
       "27                             term_int  2.217575e-04\n",
       "28                       emp_length_int  1.420369e-04\n",
       "29                   mths_since_issue_d -1.536290e-03\n",
       "30          mths_since_earliest_cr_line  3.265621e-05\n",
       "31                          funded_amnt  1.552048e-07\n",
       "32                             int_rate -2.493444e-03\n",
       "33                          installment -2.182289e-05\n",
       "34                           annual_inc  6.514381e-08\n",
       "35                                  dti  1.816324e-04\n",
       "36                          delinq_2yrs  1.214293e-03\n",
       "37                       inq_last_6mths  1.158903e-03\n",
       "38               mths_since_last_delinq -1.410971e-06\n",
       "39               mths_since_last_record -4.537687e-05\n",
       "40                             open_acc -9.828563e-04\n",
       "41                              pub_rec  1.366757e-03\n",
       "42                            total_acc  3.927187e-04\n",
       "43                       acc_now_delinq -1.124233e-02\n",
       "44                     total_rev_hi_lim  3.019928e-07"
      ]
     },
     "execution_count": 48,
     "metadata": {},
     "output_type": "execute_result"
    }
   ],
   "source": [
    "# create a summary table showing feature name and corresponding coeficients\n",
    "feature_name = lgd_inputs_stage_2_train.columns.values\n",
    "summary_table = pd.DataFrame(columns = ['Feature name'],data = feature_name)\n",
    "summary_table['Coefficients'] = np.transpose(reg_lgd_st_2.coef_)\n",
    "summary_table.index = summary_table.index+1\n",
    "summary_table.loc[0] = ['Intercept',reg_lgd_st_2.intercept_]\n",
    "summary_table = summary_table.sort_index()\n",
    "summary_table"
   ]
  },
  {
   "cell_type": "markdown",
   "id": "documented-harris",
   "metadata": {},
   "source": [
    "A coefficient shows the change in the dependent variable that is going to occur as a result of a unit change in the respective independent variable\n",
    "\n",
    "### linear regression evaluation"
   ]
  },
  {
   "cell_type": "code",
   "execution_count": 49,
   "id": "vulnerable-winter",
   "metadata": {},
   "outputs": [],
   "source": [
    "#preprare test dataset\n",
    "lgd_inputs_stage_2_test = lgd_inputs_stage_2_test[features_all].drop(features_reference_cat, axis =1)"
   ]
  },
  {
   "cell_type": "code",
   "execution_count": 50,
   "id": "disabled-convertible",
   "metadata": {},
   "outputs": [],
   "source": [
    "#use reg_lgd_st_2 to predict dependent variable\n",
    "y_hat_test_lgd_stage_2 = reg_lgd_st_2.predict(lgd_inputs_stage_2_test)"
   ]
  },
  {
   "cell_type": "code",
   "execution_count": 54,
   "id": "convertible-salem",
   "metadata": {},
   "outputs": [
    {
     "data": {
      "text/html": [
       "<div>\n",
       "<style scoped>\n",
       "    .dataframe tbody tr th:only-of-type {\n",
       "        vertical-align: middle;\n",
       "    }\n",
       "\n",
       "    .dataframe tbody tr th {\n",
       "        vertical-align: top;\n",
       "    }\n",
       "\n",
       "    .dataframe thead th {\n",
       "        text-align: right;\n",
       "    }\n",
       "</style>\n",
       "<table border=\"1\" class=\"dataframe\">\n",
       "  <thead>\n",
       "    <tr style=\"text-align: right;\">\n",
       "      <th></th>\n",
       "      <th>recovery_rate</th>\n",
       "      <th>0</th>\n",
       "    </tr>\n",
       "  </thead>\n",
       "  <tbody>\n",
       "    <tr>\n",
       "      <th>recovery_rate</th>\n",
       "      <td>1.000000</td>\n",
       "      <td>0.296761</td>\n",
       "    </tr>\n",
       "    <tr>\n",
       "      <th>0</th>\n",
       "      <td>0.296761</td>\n",
       "      <td>1.000000</td>\n",
       "    </tr>\n",
       "  </tbody>\n",
       "</table>\n",
       "</div>"
      ],
      "text/plain": [
       "               recovery_rate         0\n",
       "recovery_rate       1.000000  0.296761\n",
       "0                   0.296761  1.000000"
      ]
     },
     "execution_count": 54,
     "metadata": {},
     "output_type": "execute_result"
    }
   ],
   "source": [
    "#calculate correlation between two series\n",
    "\n",
    "#reset index for lgd_targets_stage2_test so it has the same index as y_hat_test_lgd_stage_2\n",
    "lgd_targets_stage_2_test_temp = lgd_targets_stage2_test.reset_index(drop = True)\n",
    "#apply the correlation methods\n",
    "pd.concat([lgd_targets_stage_2_test_temp,pd.DataFrame(y_hat_test_lgd_stage_2)], axis = 1).corr()"
   ]
  },
  {
   "cell_type": "markdown",
   "id": "authentic-technical",
   "metadata": {},
   "source": [
    "correlation at 0.3 is satisfactory for a LGD model.\n",
    "\n",
    "We can also look at the distribution between actual and predicted values"
   ]
  },
  {
   "cell_type": "code",
   "execution_count": 116,
   "id": "emotional-winning",
   "metadata": {},
   "outputs": [
    {
     "name": "stderr",
     "output_type": "stream",
     "text": [
      "/Library/Frameworks/Python.framework/Versions/3.9/lib/python3.9/site-packages/seaborn/distributions.py:2619: FutureWarning: `distplot` is a deprecated function and will be removed in a future version. Please adapt your code to use either `displot` (a figure-level function with similar flexibility) or `histplot` (an axes-level function for histograms).\n",
      "  warnings.warn(msg, FutureWarning)\n"
     ]
    },
    {
     "data": {
      "text/plain": [
       "<AxesSubplot:xlabel='recovery_rate', ylabel='Density'>"
      ]
     },
     "execution_count": 116,
     "metadata": {},
     "output_type": "execute_result"
    },
    {
     "data": {
      "image/png": "[encoded data removed]",
      "text/plain": [
       "<Figure size 432x288 with 1 Axes>"
      ]
     },
     "metadata": {},
     "output_type": "display_data"
    }
   ],
   "source": [
    "sns.distplot(lgd_targets_stage2_test - y_hat_test_lgd_stage_2)"
   ]
  },
  {
   "cell_type": "markdown",
   "id": "american-thinking",
   "metadata": {},
   "source": [
    "It re-sembles a normal distribution and most residuals are normally distributed around zero"
   ]
  },
  {
   "cell_type": "code",
   "execution_count": null,
   "id": "regulation-click",
   "metadata": {},
   "outputs": [],
   "source": [
    "pickle.dump(reg_lgd_st_2,open('lgd_model_stage_2.sav'),'wb')"
   ]
  },
  {
   "cell_type": "markdown",
   "id": "thermal-receipt",
   "metadata": {},
   "source": [
    "## Combining stage 1&2"
   ]
  },
  {
   "cell_type": "code",
   "execution_count": 55,
   "id": "requested-treat",
   "metadata": {},
   "outputs": [],
   "source": [
    "#use reg_lgd_st_2 to predict inputs data from stage 1\n",
    "y_hat_test_lgd_stage_2_all = reg_lgd_st_2.predict(lgd_inputs_stage_1_test)"
   ]
  },
  {
   "cell_type": "code",
   "execution_count": 56,
   "id": "biological-alabama",
   "metadata": {},
   "outputs": [],
   "source": [
    "#calculate total rocovery rate\n",
    "y_hat_test_lgd = y_hat_test_lgd_stage_1 * y_hat_test_lgd_stage_2_all"
   ]
  },
  {
   "cell_type": "code",
   "execution_count": 57,
   "id": "rental-allergy",
   "metadata": {},
   "outputs": [
    {
     "data": {
      "text/html": [
       "<div>\n",
       "<style scoped>\n",
       "    .dataframe tbody tr th:only-of-type {\n",
       "        vertical-align: middle;\n",
       "    }\n",
       "\n",
       "    .dataframe tbody tr th {\n",
       "        vertical-align: top;\n",
       "    }\n",
       "\n",
       "    .dataframe thead th {\n",
       "        text-align: right;\n",
       "    }\n",
       "</style>\n",
       "<table border=\"1\" class=\"dataframe\">\n",
       "  <thead>\n",
       "    <tr style=\"text-align: right;\">\n",
       "      <th></th>\n",
       "      <th>0</th>\n",
       "    </tr>\n",
       "  </thead>\n",
       "  <tbody>\n",
       "    <tr>\n",
       "      <th>count</th>\n",
       "      <td>6924.000000</td>\n",
       "    </tr>\n",
       "    <tr>\n",
       "      <th>mean</th>\n",
       "      <td>0.074681</td>\n",
       "    </tr>\n",
       "    <tr>\n",
       "      <th>std</th>\n",
       "      <td>0.052869</td>\n",
       "    </tr>\n",
       "    <tr>\n",
       "      <th>min</th>\n",
       "      <td>0.000000</td>\n",
       "    </tr>\n",
       "    <tr>\n",
       "      <th>25%</th>\n",
       "      <td>0.000000</td>\n",
       "    </tr>\n",
       "    <tr>\n",
       "      <th>50%</th>\n",
       "      <td>0.091493</td>\n",
       "    </tr>\n",
       "    <tr>\n",
       "      <th>75%</th>\n",
       "      <td>0.116910</td>\n",
       "    </tr>\n",
       "    <tr>\n",
       "      <th>max</th>\n",
       "      <td>0.307224</td>\n",
       "    </tr>\n",
       "  </tbody>\n",
       "</table>\n",
       "</div>"
      ],
      "text/plain": [
       "                 0\n",
       "count  6924.000000\n",
       "mean      0.074681\n",
       "std       0.052869\n",
       "min       0.000000\n",
       "25%       0.000000\n",
       "50%       0.091493\n",
       "75%       0.116910\n",
       "max       0.307224"
      ]
     },
     "execution_count": 57,
     "metadata": {},
     "output_type": "execute_result"
    }
   ],
   "source": [
    "pd.DataFrame(y_hat_test_lgd).describe()"
   ]
  },
  {
   "cell_type": "code",
   "execution_count": 58,
   "id": "nuclear-relief",
   "metadata": {},
   "outputs": [],
   "source": [
    "# Cap y_hat_test_lgd to be between [0,1]\n",
    "y_hat_test_lgd = np.where(y_hat_test_lgd<0,0,y_hat_test_lgd)\n",
    "y_hat_test_lgd = np.where(y_hat_test_lgd>0,1,y_hat_test_lgd)"
   ]
  },
  {
   "cell_type": "code",
   "execution_count": 59,
   "id": "found-wichita",
   "metadata": {},
   "outputs": [
    {
     "data": {
      "text/html": [
       "<div>\n",
       "<style scoped>\n",
       "    .dataframe tbody tr th:only-of-type {\n",
       "        vertical-align: middle;\n",
       "    }\n",
       "\n",
       "    .dataframe tbody tr th {\n",
       "        vertical-align: top;\n",
       "    }\n",
       "\n",
       "    .dataframe thead th {\n",
       "        text-align: right;\n",
       "    }\n",
       "</style>\n",
       "<table border=\"1\" class=\"dataframe\">\n",
       "  <thead>\n",
       "    <tr style=\"text-align: right;\">\n",
       "      <th></th>\n",
       "      <th>0</th>\n",
       "    </tr>\n",
       "  </thead>\n",
       "  <tbody>\n",
       "    <tr>\n",
       "      <th>count</th>\n",
       "      <td>6924.000000</td>\n",
       "    </tr>\n",
       "    <tr>\n",
       "      <th>mean</th>\n",
       "      <td>0.712594</td>\n",
       "    </tr>\n",
       "    <tr>\n",
       "      <th>std</th>\n",
       "      <td>0.452585</td>\n",
       "    </tr>\n",
       "    <tr>\n",
       "      <th>min</th>\n",
       "      <td>0.000000</td>\n",
       "    </tr>\n",
       "    <tr>\n",
       "      <th>25%</th>\n",
       "      <td>0.000000</td>\n",
       "    </tr>\n",
       "    <tr>\n",
       "      <th>50%</th>\n",
       "      <td>1.000000</td>\n",
       "    </tr>\n",
       "    <tr>\n",
       "      <th>75%</th>\n",
       "      <td>1.000000</td>\n",
       "    </tr>\n",
       "    <tr>\n",
       "      <th>max</th>\n",
       "      <td>1.000000</td>\n",
       "    </tr>\n",
       "  </tbody>\n",
       "</table>\n",
       "</div>"
      ],
      "text/plain": [
       "                 0\n",
       "count  6924.000000\n",
       "mean      0.712594\n",
       "std       0.452585\n",
       "min       0.000000\n",
       "25%       0.000000\n",
       "50%       1.000000\n",
       "75%       1.000000\n",
       "max       1.000000"
      ]
     },
     "execution_count": 59,
     "metadata": {},
     "output_type": "execute_result"
    }
   ],
   "source": [
    "pd.DataFrame(y_hat_test_lgd).describe()"
   ]
  }
 ],
 "metadata": {
  "hide_input": false,
  "kernelspec": {
   "display_name": "Python 3",
   "language": "python",
   "name": "python3"
  },
  "language_info": {
   "codemirror_mode": {
    "name": "ipython",
    "version": 3
   },
   "file_extension": ".py",
   "mimetype": "text/x-python",
   "name": "python",
   "nbconvert_exporter": "python",
   "pygments_lexer": "ipython3",
   "version": "3.9.0"
  }
 },
 "nbformat": 4,
 "nbformat_minor": 5
}
