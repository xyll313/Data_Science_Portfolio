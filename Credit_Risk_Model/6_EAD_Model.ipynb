{
 "cells": [
  {
   "cell_type": "markdown",
   "id": "later-usage",
   "metadata": {},
   "source": [
    "# EAD Model\n",
    "\n",
    "* EAD (exposure at default): the amount of the exposure at the moment the borrower default\n",
    "\n",
    "* EAD = total funded amount x credit conversation factor"
   ]
  },
  {
   "cell_type": "code",
   "execution_count": 1,
   "id": "abandoned-mobility",
   "metadata": {},
   "outputs": [],
   "source": [
    "#import libraries \n",
    "import numpy as np\n",
    "import pandas as pd\n",
    "pd.options.mode.chained_assignment = None\n",
    "import matplotlib.pyplot as plt\n",
    "import seaborn as sns\n",
    "sns.set()\n",
    "\n",
    "from sklearn import linear_model\n",
    "from sklearn.model_selection import train_test_split\n",
    "from sklearn.metrics import roc_curve, roc_auc_score\n",
    "from sklearn.metrics import mean_squared_error, r2_score"
   ]
  },
  {
   "cell_type": "code",
   "execution_count": 2,
   "id": "stainless-delay",
   "metadata": {},
   "outputs": [],
   "source": [
    "#load_data\n",
    "loan_data_inputs_train = pd.read_csv('loan_data_inputs_train.csv', index_col = 0)\n",
    "loan_data_inputs_test = pd.read_csv('loan_data_inputs_test.csv',index_col = 0)"
   ]
  },
  {
   "cell_type": "markdown",
   "id": "ranking-issue",
   "metadata": {},
   "source": [
    "## 1. Data Preprocessing\n",
    "Similar as for LGD model "
   ]
  },
  {
   "cell_type": "code",
   "execution_count": 3,
   "id": "integrated-compensation",
   "metadata": {},
   "outputs": [],
   "source": [
    "#combined the pre-processed train/test datasets\n",
    "loan_data_defaults = pd.concat([loan_data_inputs_train, loan_data_inputs_test], axis = 0)\n",
    "#chose defaulted accounts\n",
    "loan_data_defaults = loan_data_defaults[loan_data_defaults['loan_status'].isin(['Charged Off','Does not meet the credit policy. Status:Charged Off'])]\n",
    "#fill in NA\n",
    "loan_data_defaults['mths_since_last_delinq'].fillna(0,inplace = True)\n",
    "loan_data_defaults['mths_since_last_record'].fillna(0,inplace = True)\n",
    "loan_data_defaults['pub_rec'].fillna(0,inplace = True)"
   ]
  },
  {
   "cell_type": "markdown",
   "id": "medium-highlight",
   "metadata": {},
   "source": [
    "### 1.1 Dependent Variable\n",
    "For EAD, we set depdent variable to be CCF (credit conversion factor)\n",
    "\n",
    "* CCF: the proportion of the original amount of the loan that is still outstanding at the moment when the borrower defaulted\n",
    "\n",
    "* CCF = (funded_amount - total rocovered)/funded_amount"
   ]
  },
  {
   "cell_type": "code",
   "execution_count": 4,
   "id": "about-warren",
   "metadata": {},
   "outputs": [
    {
     "data": {
      "text/plain": [
       "count    43236.000000\n",
       "mean         0.735952\n",
       "std          0.200742\n",
       "min          0.000438\n",
       "25%          0.632088\n",
       "50%          0.789908\n",
       "75%          0.888543\n",
       "max          1.000000\n",
       "Name: CCF, dtype: float64"
      ]
     },
     "execution_count": 4,
     "metadata": {},
     "output_type": "execute_result"
    }
   ],
   "source": [
    "loan_data_defaults['CCF'] = (loan_data_defaults['funded_amnt']-loan_data_defaults['total_rec_prncp'])/loan_data_defaults['funded_amnt']\n",
    "loan_data_defaults['CCF'].describe()"
   ]
  },
  {
   "cell_type": "code",
   "execution_count": 5,
   "id": "ceramic-publicity",
   "metadata": {},
   "outputs": [
    {
     "data": {
      "text/plain": [
       "(array([  20.,   60.,   29.,   97.,   70.,   84.,  150.,   78.,  124.,\n",
       "         170.,  152.,  208.,  199.,  228.,  242.,  276.,  300.,  335.,\n",
       "         339.,  376.,  412.,  421.,  505.,  505.,  575.,  583.,  614.,\n",
       "         735.,  756.,  812.,  840.,  942.,  959., 1137., 1217., 1418.,\n",
       "        1431., 1580., 1732., 1850., 2003., 2151., 2123., 2376., 2447.,\n",
       "        2693., 2366., 2115., 1527.,  874.]),\n",
       " array([4.3800000e-04, 2.0429240e-02, 4.0420480e-02, 6.0411720e-02,\n",
       "        8.0402960e-02, 1.0039420e-01, 1.2038544e-01, 1.4037668e-01,\n",
       "        1.6036792e-01, 1.8035916e-01, 2.0035040e-01, 2.2034164e-01,\n",
       "        2.4033288e-01, 2.6032412e-01, 2.8031536e-01, 3.0030660e-01,\n",
       "        3.2029784e-01, 3.4028908e-01, 3.6028032e-01, 3.8027156e-01,\n",
       "        4.0026280e-01, 4.2025404e-01, 4.4024528e-01, 4.6023652e-01,\n",
       "        4.8022776e-01, 5.0021900e-01, 5.2021024e-01, 5.4020148e-01,\n",
       "        5.6019272e-01, 5.8018396e-01, 6.0017520e-01, 6.2016644e-01,\n",
       "        6.4015768e-01, 6.6014892e-01, 6.8014016e-01, 7.0013140e-01,\n",
       "        7.2012264e-01, 7.4011388e-01, 7.6010512e-01, 7.8009636e-01,\n",
       "        8.0008760e-01, 8.2007884e-01, 8.4007008e-01, 8.6006132e-01,\n",
       "        8.8005256e-01, 9.0004380e-01, 9.2003504e-01, 9.4002628e-01,\n",
       "        9.6001752e-01, 9.8000876e-01, 1.0000000e+00]),\n",
       " <BarContainer object of 50 artists>)"
      ]
     },
     "execution_count": 5,
     "metadata": {},
     "output_type": "execute_result"
    },
    {
     "data": {
      "image/png": "[encoded data removed]",
      "text/plain": [
       "<Figure size 432x288 with 1 Axes>"
      ]
     },
     "metadata": {},
     "output_type": "display_data"
    }
   ],
   "source": [
    "plt.hist(loan_data_defaults['CCF'],50)"
   ]
  },
  {
   "cell_type": "markdown",
   "id": "southeast-external",
   "metadata": {},
   "source": [
    "The shape suggests that we can use only a simple linear regression model "
   ]
  },
  {
   "cell_type": "markdown",
   "id": "characteristic-grammar",
   "metadata": {},
   "source": [
    "# EAD Model\n",
    "## Estimation and interpretion"
   ]
  },
  {
   "cell_type": "code",
   "execution_count": 6,
   "id": "acquired-mambo",
   "metadata": {},
   "outputs": [],
   "source": [
    "#train test split\n",
    "ead_inputs_train, ead_inputs_test, ead_targets_train, ead_targets_test = train_test_split(loan_data_defaults.drop(['CCF'],axis=1),loan_data_defaults['CCF'],test_size = 0.2,random_state = 42)"
   ]
  },
  {
   "cell_type": "code",
   "execution_count": 7,
   "id": "recorded-queens",
   "metadata": {
    "code_folding": []
   },
   "outputs": [],
   "source": [
    "#a list of features in consideration\n",
    "features_all = ['grade:A',\n",
    "'grade:B',\n",
    "'grade:C',\n",
    "'grade:D',\n",
    "'grade:E',\n",
    "'grade:F',\n",
    "'grade:G',\n",
    "'home_ownership:MORTGAGE',\n",
    "'home_ownership:NONE',\n",
    "'home_ownership:OTHER',\n",
    "'home_ownership:OWN',\n",
    "'home_ownership:RENT',\n",
    "'verification_status:Not Verified',\n",
    "'verification_status:Source Verified',\n",
    "'verification_status:Verified',\n",
    "'purpose:car',\n",
    "'purpose:credit_card',\n",
    "'purpose:debt_consolidation',\n",
    "'purpose:educational',\n",
    "'purpose:home_improvement',\n",
    "'purpose:house',\n",
    "'purpose:major_purchase',\n",
    "'purpose:medical',\n",
    "'purpose:moving',\n",
    "'purpose:other',\n",
    "'purpose:renewable_energy',\n",
    "'purpose:small_business',\n",
    "'purpose:vacation',\n",
    "'purpose:wedding',\n",
    "'initial_list_status:f',\n",
    "'initial_list_status:w',\n",
    "'term_int',\n",
    "'emp_length_int',\n",
    "'mths_since_issue_d',\n",
    "'mths_since_earliest_cr_line',\n",
    "'funded_amnt',\n",
    "'int_rate',\n",
    "'installment',\n",
    "'annual_inc',\n",
    "'dti',\n",
    "'delinq_2yrs',\n",
    "'inq_last_6mths',\n",
    "'mths_since_last_delinq',\n",
    "'mths_since_last_record',\n",
    "'open_acc',\n",
    "'pub_rec',\n",
    "'total_acc',\n",
    "'acc_now_delinq',\n",
    "'total_rev_hi_lim']\n",
    "\n",
    "# list of reference categories\n",
    "features_reference_cat = ['grade:G', 'home_ownership:RENT', 'verification_status:Verified','purpose:credit_card','initial_list_status:f']"
   ]
  },
  {
   "cell_type": "code",
   "execution_count": 8,
   "id": "manufactured-creature",
   "metadata": {},
   "outputs": [],
   "source": [
    "#pre-process training data\n",
    "ead_inputs_train = ead_inputs_train[features_all].drop(features_reference_cat, axis = 1)"
   ]
  },
  {
   "cell_type": "code",
   "execution_count": 9,
   "id": "devoted-bridge",
   "metadata": {},
   "outputs": [
    {
     "data": {
      "text/plain": [
       "LinearRegression()"
      ]
     },
     "execution_count": 9,
     "metadata": {},
     "output_type": "execute_result"
    }
   ],
   "source": [
    "#create linear regression model\n",
    "reg_ead = linear_model.LinearRegression()\n",
    "#train the model\n",
    "reg_ead.fit(ead_inputs_train,ead_targets_train)"
   ]
  },
  {
   "cell_type": "code",
   "execution_count": 10,
   "id": "detailed-silence",
   "metadata": {
    "scrolled": true
   },
   "outputs": [
    {
     "data": {
      "text/html": [
       "<div>\n",
       "<style scoped>\n",
       "    .dataframe tbody tr th:only-of-type {\n",
       "        vertical-align: middle;\n",
       "    }\n",
       "\n",
       "    .dataframe tbody tr th {\n",
       "        vertical-align: top;\n",
       "    }\n",
       "\n",
       "    .dataframe thead th {\n",
       "        text-align: right;\n",
       "    }\n",
       "</style>\n",
       "<table border=\"1\" class=\"dataframe\">\n",
       "  <thead>\n",
       "    <tr style=\"text-align: right;\">\n",
       "      <th></th>\n",
       "      <th>Feature name</th>\n",
       "      <th>Coefficients</th>\n",
       "    </tr>\n",
       "  </thead>\n",
       "  <tbody>\n",
       "    <tr>\n",
       "      <th>0</th>\n",
       "      <td>Intercept</td>\n",
       "      <td>1.092887e+00</td>\n",
       "    </tr>\n",
       "    <tr>\n",
       "      <th>1</th>\n",
       "      <td>grade:A</td>\n",
       "      <td>-2.894532e-01</td>\n",
       "    </tr>\n",
       "    <tr>\n",
       "      <th>2</th>\n",
       "      <td>grade:B</td>\n",
       "      <td>-2.244385e-01</td>\n",
       "    </tr>\n",
       "    <tr>\n",
       "      <th>3</th>\n",
       "      <td>grade:C</td>\n",
       "      <td>-1.633879e-01</td>\n",
       "    </tr>\n",
       "    <tr>\n",
       "      <th>4</th>\n",
       "      <td>grade:D</td>\n",
       "      <td>-1.130672e-01</td>\n",
       "    </tr>\n",
       "    <tr>\n",
       "      <th>5</th>\n",
       "      <td>grade:E</td>\n",
       "      <td>-6.469582e-02</td>\n",
       "    </tr>\n",
       "    <tr>\n",
       "      <th>6</th>\n",
       "      <td>grade:F</td>\n",
       "      <td>-1.993016e-02</td>\n",
       "    </tr>\n",
       "    <tr>\n",
       "      <th>7</th>\n",
       "      <td>home_ownership:MORTGAGE</td>\n",
       "      <td>-6.703072e-03</td>\n",
       "    </tr>\n",
       "    <tr>\n",
       "      <th>8</th>\n",
       "      <td>home_ownership:NONE</td>\n",
       "      <td>2.384093e-02</td>\n",
       "    </tr>\n",
       "    <tr>\n",
       "      <th>9</th>\n",
       "      <td>home_ownership:OTHER</td>\n",
       "      <td>1.860229e-04</td>\n",
       "    </tr>\n",
       "    <tr>\n",
       "      <th>10</th>\n",
       "      <td>home_ownership:OWN</td>\n",
       "      <td>-2.796702e-04</td>\n",
       "    </tr>\n",
       "    <tr>\n",
       "      <th>11</th>\n",
       "      <td>verification_status:Not Verified</td>\n",
       "      <td>6.712414e-04</td>\n",
       "    </tr>\n",
       "    <tr>\n",
       "      <th>12</th>\n",
       "      <td>verification_status:Source Verified</td>\n",
       "      <td>1.038175e-02</td>\n",
       "    </tr>\n",
       "    <tr>\n",
       "      <th>13</th>\n",
       "      <td>purpose:car</td>\n",
       "      <td>4.867859e-03</td>\n",
       "    </tr>\n",
       "    <tr>\n",
       "      <th>14</th>\n",
       "      <td>purpose:debt_consolidation</td>\n",
       "      <td>1.238701e-02</td>\n",
       "    </tr>\n",
       "    <tr>\n",
       "      <th>15</th>\n",
       "      <td>purpose:educational</td>\n",
       "      <td>1.121048e-01</td>\n",
       "    </tr>\n",
       "    <tr>\n",
       "      <th>16</th>\n",
       "      <td>purpose:home_improvement</td>\n",
       "      <td>2.071168e-02</td>\n",
       "    </tr>\n",
       "    <tr>\n",
       "      <th>17</th>\n",
       "      <td>purpose:house</td>\n",
       "      <td>2.604718e-02</td>\n",
       "    </tr>\n",
       "    <tr>\n",
       "      <th>18</th>\n",
       "      <td>purpose:major_purchase</td>\n",
       "      <td>2.957197e-02</td>\n",
       "    </tr>\n",
       "    <tr>\n",
       "      <th>19</th>\n",
       "      <td>purpose:medical</td>\n",
       "      <td>4.930257e-02</td>\n",
       "    </tr>\n",
       "    <tr>\n",
       "      <th>20</th>\n",
       "      <td>purpose:moving</td>\n",
       "      <td>4.347314e-02</td>\n",
       "    </tr>\n",
       "    <tr>\n",
       "      <th>21</th>\n",
       "      <td>purpose:other</td>\n",
       "      <td>3.751668e-02</td>\n",
       "    </tr>\n",
       "    <tr>\n",
       "      <th>22</th>\n",
       "      <td>purpose:renewable_energy</td>\n",
       "      <td>5.131428e-02</td>\n",
       "    </tr>\n",
       "    <tr>\n",
       "      <th>23</th>\n",
       "      <td>purpose:small_business</td>\n",
       "      <td>5.605906e-02</td>\n",
       "    </tr>\n",
       "    <tr>\n",
       "      <th>24</th>\n",
       "      <td>purpose:vacation</td>\n",
       "      <td>2.231222e-02</td>\n",
       "    </tr>\n",
       "    <tr>\n",
       "      <th>25</th>\n",
       "      <td>purpose:wedding</td>\n",
       "      <td>4.069811e-02</td>\n",
       "    </tr>\n",
       "    <tr>\n",
       "      <th>26</th>\n",
       "      <td>initial_list_status:w</td>\n",
       "      <td>1.135766e-02</td>\n",
       "    </tr>\n",
       "    <tr>\n",
       "      <th>27</th>\n",
       "      <td>term_int</td>\n",
       "      <td>4.461674e-03</td>\n",
       "    </tr>\n",
       "    <tr>\n",
       "      <th>28</th>\n",
       "      <td>emp_length_int</td>\n",
       "      <td>-1.499367e-03</td>\n",
       "    </tr>\n",
       "    <tr>\n",
       "      <th>29</th>\n",
       "      <td>mths_since_issue_d</td>\n",
       "      <td>-4.363515e-03</td>\n",
       "    </tr>\n",
       "    <tr>\n",
       "      <th>30</th>\n",
       "      <td>mths_since_earliest_cr_line</td>\n",
       "      <td>-3.356173e-05</td>\n",
       "    </tr>\n",
       "    <tr>\n",
       "      <th>31</th>\n",
       "      <td>funded_amnt</td>\n",
       "      <td>2.776016e-06</td>\n",
       "    </tr>\n",
       "    <tr>\n",
       "      <th>32</th>\n",
       "      <td>int_rate</td>\n",
       "      <td>-1.077514e-02</td>\n",
       "    </tr>\n",
       "    <tr>\n",
       "      <th>33</th>\n",
       "      <td>installment</td>\n",
       "      <td>-8.486813e-05</td>\n",
       "    </tr>\n",
       "    <tr>\n",
       "      <th>34</th>\n",
       "      <td>annual_inc</td>\n",
       "      <td>-9.597183e-09</td>\n",
       "    </tr>\n",
       "    <tr>\n",
       "      <th>35</th>\n",
       "      <td>dti</td>\n",
       "      <td>3.561978e-04</td>\n",
       "    </tr>\n",
       "    <tr>\n",
       "      <th>36</th>\n",
       "      <td>delinq_2yrs</td>\n",
       "      <td>8.955339e-04</td>\n",
       "    </tr>\n",
       "    <tr>\n",
       "      <th>37</th>\n",
       "      <td>inq_last_6mths</td>\n",
       "      <td>1.111685e-02</td>\n",
       "    </tr>\n",
       "    <tr>\n",
       "      <th>38</th>\n",
       "      <td>mths_since_last_delinq</td>\n",
       "      <td>-2.183075e-04</td>\n",
       "    </tr>\n",
       "    <tr>\n",
       "      <th>39</th>\n",
       "      <td>mths_since_last_record</td>\n",
       "      <td>-1.222618e-05</td>\n",
       "    </tr>\n",
       "    <tr>\n",
       "      <th>40</th>\n",
       "      <td>open_acc</td>\n",
       "      <td>-1.921169e-03</td>\n",
       "    </tr>\n",
       "    <tr>\n",
       "      <th>41</th>\n",
       "      <td>pub_rec</td>\n",
       "      <td>4.935665e-03</td>\n",
       "    </tr>\n",
       "    <tr>\n",
       "      <th>42</th>\n",
       "      <td>total_acc</td>\n",
       "      <td>4.554343e-04</td>\n",
       "    </tr>\n",
       "    <tr>\n",
       "      <th>43</th>\n",
       "      <td>acc_now_delinq</td>\n",
       "      <td>9.332253e-03</td>\n",
       "    </tr>\n",
       "    <tr>\n",
       "      <th>44</th>\n",
       "      <td>total_rev_hi_lim</td>\n",
       "      <td>6.698004e-08</td>\n",
       "    </tr>\n",
       "  </tbody>\n",
       "</table>\n",
       "</div>"
      ],
      "text/plain": [
       "                           Feature name  Coefficients\n",
       "0                             Intercept  1.092887e+00\n",
       "1                               grade:A -2.894532e-01\n",
       "2                               grade:B -2.244385e-01\n",
       "3                               grade:C -1.633879e-01\n",
       "4                               grade:D -1.130672e-01\n",
       "5                               grade:E -6.469582e-02\n",
       "6                               grade:F -1.993016e-02\n",
       "7               home_ownership:MORTGAGE -6.703072e-03\n",
       "8                   home_ownership:NONE  2.384093e-02\n",
       "9                  home_ownership:OTHER  1.860229e-04\n",
       "10                   home_ownership:OWN -2.796702e-04\n",
       "11     verification_status:Not Verified  6.712414e-04\n",
       "12  verification_status:Source Verified  1.038175e-02\n",
       "13                          purpose:car  4.867859e-03\n",
       "14           purpose:debt_consolidation  1.238701e-02\n",
       "15                  purpose:educational  1.121048e-01\n",
       "16             purpose:home_improvement  2.071168e-02\n",
       "17                        purpose:house  2.604718e-02\n",
       "18               purpose:major_purchase  2.957197e-02\n",
       "19                      purpose:medical  4.930257e-02\n",
       "20                       purpose:moving  4.347314e-02\n",
       "21                        purpose:other  3.751668e-02\n",
       "22             purpose:renewable_energy  5.131428e-02\n",
       "23               purpose:small_business  5.605906e-02\n",
       "24                     purpose:vacation  2.231222e-02\n",
       "25                      purpose:wedding  4.069811e-02\n",
       "26                initial_list_status:w  1.135766e-02\n",
       "27                             term_int  4.461674e-03\n",
       "28                       emp_length_int -1.499367e-03\n",
       "29                   mths_since_issue_d -4.363515e-03\n",
       "30          mths_since_earliest_cr_line -3.356173e-05\n",
       "31                          funded_amnt  2.776016e-06\n",
       "32                             int_rate -1.077514e-02\n",
       "33                          installment -8.486813e-05\n",
       "34                           annual_inc -9.597183e-09\n",
       "35                                  dti  3.561978e-04\n",
       "36                          delinq_2yrs  8.955339e-04\n",
       "37                       inq_last_6mths  1.111685e-02\n",
       "38               mths_since_last_delinq -2.183075e-04\n",
       "39               mths_since_last_record -1.222618e-05\n",
       "40                             open_acc -1.921169e-03\n",
       "41                              pub_rec  4.935665e-03\n",
       "42                            total_acc  4.554343e-04\n",
       "43                       acc_now_delinq  9.332253e-03\n",
       "44                     total_rev_hi_lim  6.698004e-08"
      ]
     },
     "execution_count": 10,
     "metadata": {},
     "output_type": "execute_result"
    }
   ],
   "source": [
    "#create a summary table\n",
    "feature_name = ead_inputs_train.columns.values\n",
    "summary_table = pd.DataFrame(columns = ['Feature name'],data = feature_name)\n",
    "summary_table['Coefficients'] = np.transpose(reg_ead.coef_)\n",
    "summary_table.index = summary_table.index+1\n",
    "summary_table.loc[0] = ['Intercept',reg_ead.intercept_]\n",
    "summary_table = summary_table.sort_index()\n",
    "summary_table"
   ]
  },
  {
   "cell_type": "markdown",
   "id": "practical-annotation",
   "metadata": {},
   "source": [
    "* Positive coefficients = Increase in the CCF (higher risk)\n",
    "* Negative coefficients = Decrease in the CCF (lower risk)\n",
    "\n",
    "For example, customers with external grade:A has a 28% lower CCF than those with grade:G "
   ]
  },
  {
   "cell_type": "markdown",
   "id": "expected-subcommittee",
   "metadata": {},
   "source": [
    "## Model Validation"
   ]
  },
  {
   "cell_type": "code",
   "execution_count": 11,
   "id": "quick-state",
   "metadata": {},
   "outputs": [],
   "source": [
    "# testset data preparation\n",
    "ead_inputs_test = ead_inputs_test[features_all].drop(features_reference_cat, axis = 1)"
   ]
  },
  {
   "cell_type": "code",
   "execution_count": 12,
   "id": "higher-progressive",
   "metadata": {},
   "outputs": [
    {
     "data": {
      "text/html": [
       "<div>\n",
       "<style scoped>\n",
       "    .dataframe tbody tr th:only-of-type {\n",
       "        vertical-align: middle;\n",
       "    }\n",
       "\n",
       "    .dataframe tbody tr th {\n",
       "        vertical-align: top;\n",
       "    }\n",
       "\n",
       "    .dataframe thead th {\n",
       "        text-align: right;\n",
       "    }\n",
       "</style>\n",
       "<table border=\"1\" class=\"dataframe\">\n",
       "  <thead>\n",
       "    <tr style=\"text-align: right;\">\n",
       "      <th></th>\n",
       "      <th>CCF</th>\n",
       "      <th>0</th>\n",
       "    </tr>\n",
       "  </thead>\n",
       "  <tbody>\n",
       "    <tr>\n",
       "      <th>CCF</th>\n",
       "      <td>1.000000</td>\n",
       "      <td>0.519024</td>\n",
       "    </tr>\n",
       "    <tr>\n",
       "      <th>0</th>\n",
       "      <td>0.519024</td>\n",
       "      <td>1.000000</td>\n",
       "    </tr>\n",
       "  </tbody>\n",
       "</table>\n",
       "</div>"
      ],
      "text/plain": [
       "          CCF         0\n",
       "CCF  1.000000  0.519024\n",
       "0    0.519024  1.000000"
      ]
     },
     "execution_count": 12,
     "metadata": {},
     "output_type": "execute_result"
    }
   ],
   "source": [
    "# predict use reg_ead.predict\n",
    "y_hat_test_ead = reg_ead.predict(ead_inputs_test)\n",
    "\n",
    "# calculate correlation\n",
    "ead_targets_test_temp = ead_targets_test.reset_index(drop = True)\n",
    "pd.concat([ead_targets_test_temp, pd.DataFrame(y_hat_test_ead)],axis = 1).corr()"
   ]
  },
  {
   "cell_type": "markdown",
   "id": "administrative-volunteer",
   "metadata": {},
   "source": [
    "We see a correlation at 0.525 which is okay. We shall also look at the distribution of the residuals \n",
    "(i.e. the differences between actual and predicted values)"
   ]
  },
  {
   "cell_type": "code",
   "execution_count": 13,
   "id": "posted-hearing",
   "metadata": {},
   "outputs": [
    {
     "name": "stderr",
     "output_type": "stream",
     "text": [
      "/Library/Frameworks/Python.framework/Versions/3.9/lib/python3.9/site-packages/seaborn/distributions.py:2619: FutureWarning: `distplot` is a deprecated function and will be removed in a future version. Please adapt your code to use either `displot` (a figure-level function with similar flexibility) or `histplot` (an axes-level function for histograms).\n",
      "  warnings.warn(msg, FutureWarning)\n"
     ]
    },
    {
     "data": {
      "text/plain": [
       "<AxesSubplot:xlabel='CCF', ylabel='Density'>"
      ]
     },
     "execution_count": 13,
     "metadata": {},
     "output_type": "execute_result"
    },
    {
     "data": {
      "image/png": "[encoded data removed]",
      "text/plain": [
       "<Figure size 432x288 with 1 Axes>"
      ]
     },
     "metadata": {},
     "output_type": "display_data"
    }
   ],
   "source": [
    "sns.distplot(ead_targets_test - y_hat_test_ead)"
   ]
  },
  {
   "cell_type": "markdown",
   "id": "therapeutic-discharge",
   "metadata": {},
   "source": [
    "We see an approximate normal distribution centred at zero.\n",
    "The models predictive power is relatively good and seems to be a good model methodologically. "
   ]
  },
  {
   "cell_type": "code",
   "execution_count": 14,
   "id": "experimental-decade",
   "metadata": {},
   "outputs": [
    {
     "data": {
      "text/html": [
       "<div>\n",
       "<style scoped>\n",
       "    .dataframe tbody tr th:only-of-type {\n",
       "        vertical-align: middle;\n",
       "    }\n",
       "\n",
       "    .dataframe tbody tr th {\n",
       "        vertical-align: top;\n",
       "    }\n",
       "\n",
       "    .dataframe thead th {\n",
       "        text-align: right;\n",
       "    }\n",
       "</style>\n",
       "<table border=\"1\" class=\"dataframe\">\n",
       "  <thead>\n",
       "    <tr style=\"text-align: right;\">\n",
       "      <th></th>\n",
       "      <th>0</th>\n",
       "    </tr>\n",
       "  </thead>\n",
       "  <tbody>\n",
       "    <tr>\n",
       "      <th>count</th>\n",
       "      <td>8648.000000</td>\n",
       "    </tr>\n",
       "    <tr>\n",
       "      <th>mean</th>\n",
       "      <td>0.736500</td>\n",
       "    </tr>\n",
       "    <tr>\n",
       "      <th>std</th>\n",
       "      <td>0.104480</td>\n",
       "    </tr>\n",
       "    <tr>\n",
       "      <th>min</th>\n",
       "      <td>0.385696</td>\n",
       "    </tr>\n",
       "    <tr>\n",
       "      <th>25%</th>\n",
       "      <td>0.663032</td>\n",
       "    </tr>\n",
       "    <tr>\n",
       "      <th>50%</th>\n",
       "      <td>0.732522</td>\n",
       "    </tr>\n",
       "    <tr>\n",
       "      <th>75%</th>\n",
       "      <td>0.810800</td>\n",
       "    </tr>\n",
       "    <tr>\n",
       "      <th>max</th>\n",
       "      <td>1.008384</td>\n",
       "    </tr>\n",
       "  </tbody>\n",
       "</table>\n",
       "</div>"
      ],
      "text/plain": [
       "                 0\n",
       "count  8648.000000\n",
       "mean      0.736500\n",
       "std       0.104480\n",
       "min       0.385696\n",
       "25%       0.663032\n",
       "50%       0.732522\n",
       "75%       0.810800\n",
       "max       1.008384"
      ]
     },
     "execution_count": 14,
     "metadata": {},
     "output_type": "execute_result"
    }
   ],
   "source": [
    "pd.DataFrame(y_hat_test_ead).describe()"
   ]
  },
  {
   "cell_type": "markdown",
   "id": "bottom-exception",
   "metadata": {},
   "source": [
    "The minimum predictive value is 0.34, which is ok/"
   ]
  },
  {
   "cell_type": "code",
   "execution_count": 15,
   "id": "broke-meeting",
   "metadata": {},
   "outputs": [],
   "source": [
    "#save the model\n",
    "import pickle\n",
    "pickle.dump(reg_ead,open('ead_model.sav','wb'))"
   ]
  }
 ],
 "metadata": {
  "hide_input": false,
  "kernelspec": {
   "display_name": "Python 3",
   "language": "python",
   "name": "python3"
  },
  "language_info": {
   "codemirror_mode": {
    "name": "ipython",
    "version": 3
   },
   "file_extension": ".py",
   "mimetype": "text/x-python",
   "name": "python",
   "nbconvert_exporter": "python",
   "pygments_lexer": "ipython3",
   "version": "3.9.0"
  }
 },
 "nbformat": 4,
 "nbformat_minor": 5
}
